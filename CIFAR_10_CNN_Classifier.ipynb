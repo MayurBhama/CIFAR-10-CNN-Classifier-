{
  "nbformat": 4,
  "nbformat_minor": 0,
  "metadata": {
    "colab": {
      "provenance": [],
      "gpuType": "T4"
    },
    "kernelspec": {
      "name": "python3",
      "display_name": "Python 3"
    },
    "language_info": {
      "name": "python"
    },
    "accelerator": "GPU"
  },
  "cells": [
    {
      "cell_type": "code",
      "source": [
        "# ---------------------------------------CIFAR-10 CNN: From Overfitting to Optimization------------------------------------\n",
        "\"\"\"\n",
        "This notebook documents the process of building a Convolutional Neural Network (CNN) for CIFAR-10 image classification. We will:\n",
        "1.  Build and train a simple **baseline model** and observe its overfitting.\n",
        "2.  Build an **optimized model** using regularization techniques (Batch Normalization, Dropout) and callbacks (Early Stopping, Learning Rate Scheduling).\n",
        "3.  Compare the performance of both models to demonstrate the effectiveness of our optimizations.\n",
        "\"\"\""
      ],
      "metadata": {
        "colab": {
          "base_uri": "https://localhost:8080/",
          "height": 54
        },
        "id": "VM8xbNmXfq6X",
        "outputId": "8bcc7639-f5ef-4909-9ba5-bd0b1a45089d"
      },
      "execution_count": 1,
      "outputs": [
        {
          "output_type": "execute_result",
          "data": {
            "text/plain": [
              "'\\nThis notebook documents the process of building a Convolutional Neural Network (CNN) for CIFAR-10 image classification. We will:\\n1.  Build and train a simple **baseline model** and observe its overfitting.\\n2.  Build an **optimized model** using regularization techniques (Batch Normalization, Dropout) and callbacks (Early Stopping, Learning Rate Scheduling).\\n3.  Compare the performance of both models to demonstrate the effectiveness of our optimizations.\\n'"
            ],
            "application/vnd.google.colaboratory.intrinsic+json": {
              "type": "string"
            }
          },
          "metadata": {},
          "execution_count": 1
        }
      ]
    },
    {
      "cell_type": "code",
      "source": [
        "import sys\n",
        "import os\n",
        "import numpy as np\n",
        "import matplotlib.pyplot as plt\n"
      ],
      "metadata": {
        "id": "TZSnhEmhp-VY"
      },
      "execution_count": 2,
      "outputs": []
    },
    {
      "cell_type": "code",
      "source": [
        "\"\"\"\n",
        "This script is designed to run at the very beginning of the project.\n",
        "Its job is to automatically create a clean, organized, and professional folder structure for a deep learning project directly in your Google Drive.\n",
        "\"\"\""
      ],
      "metadata": {
        "colab": {
          "base_uri": "https://localhost:8080/",
          "height": 36
        },
        "id": "P1Hc9gB_jLfz",
        "outputId": "9e4178db-60fa-4e04-997e-fe8c0a30cb97"
      },
      "execution_count": 3,
      "outputs": [
        {
          "output_type": "execute_result",
          "data": {
            "text/plain": [
              "'\\nThis script is designed to run at the very beginning of the project.\\nIts job is to automatically create a clean, organized, and professional folder structure for a deep learning project directly in your Google Drive.\\n'"
            ],
            "application/vnd.google.colaboratory.intrinsic+json": {
              "type": "string"
            }
          },
          "metadata": {},
          "execution_count": 3
        }
      ]
    },
    {
      "cell_type": "code",
      "source": [
        "#Mounting drive and setting work directory\n",
        "from google.colab import drive\n",
        "drive.mount('/content/drive', force_remount= True)"
      ],
      "metadata": {
        "colab": {
          "base_uri": "https://localhost:8080/"
        },
        "id": "aiwPTaoRA1MF",
        "outputId": "17e7f04c-1c8f-45a7-8ef9-b48107cc8b96"
      },
      "execution_count": 4,
      "outputs": [
        {
          "output_type": "stream",
          "name": "stdout",
          "text": [
            "Mounted at /content/drive\n"
          ]
        }
      ]
    },
    {
      "cell_type": "code",
      "source": [
        "import os, pathlib\n",
        "project_dir = \"/content/drive/MyDrive/cifar10-cnn\" #A variable storing path\n",
        "\n",
        "pathlib.Path(project_dir).mkdir(parents = True, exist_ok = True) #creating directory if it doesnt exist\n",
        "os.chdir(project_dir) #changes the correct working directory to project_dir"
      ],
      "metadata": {
        "id": "_evYP3hlF7Ox"
      },
      "execution_count": 5,
      "outputs": []
    },
    {
      "cell_type": "code",
      "source": [
        "print(\"Working directory:\", os.getcwd()) #Printing the current working directory"
      ],
      "metadata": {
        "colab": {
          "base_uri": "https://localhost:8080/"
        },
        "id": "H8_iPPMZICbr",
        "outputId": "64c4c0f9-e0be-430e-8fac-a6aec52cfd44"
      },
      "execution_count": 6,
      "outputs": [
        {
          "output_type": "stream",
          "name": "stdout",
          "text": [
            "Working directory: /content/drive/MyDrive/cifar10-cnn\n"
          ]
        }
      ]
    },
    {
      "cell_type": "code",
      "source": [
        "#Create folders and placeholder files from collab using python\n",
        "folders = [\n",
        "    \"src/cifar10_cnn/data\",\n",
        "    \"src/cifar10_cnn/models\",\n",
        "    \"src/cifar10_cnn/train\",\n",
        "    \"src/cifar10_cnn/eval\",\n",
        "    \"notebooks\", \"data\",\"models\", \"reports\", \"tests\"\n",
        "]\n",
        "\n",
        "for f in folders:\n",
        "  pathlib.Path(f).mkdir(parents = True, exist_ok = True)\n",
        "\n",
        "#Keep empty dirs tracked in Git via .gitkeep\n",
        "for keep_dir in [\"data\",\"models\", \"reports\", \"notebooks\"]:\n",
        "  pathlib.Path(keep_dir, \".gitkeep\").touch() #touch() create an empty fil called .gitkeep in these folders\n",
        "\n",
        "#Minimal package inits\n",
        "for f in [\n",
        "    \"src/cifar10_cnn/__init__.py\",\n",
        "    \"src/cifar10_cnn/data/__init__.py\",\n",
        "    \"src/cifar10_cnn/models/__init__.py\",\n",
        "    \"src/cifar10_cnn/train/__init__.py\",\n",
        "    \"src/cifar10_cnn/eval/__init__.py\",\n",
        "]:\n",
        "    pathlib.Path(f).touch()\n",
        "\n",
        "#Basic Readme and requirements for tensorflow build\n",
        "pathlib.Path(\"ReadMe.md\").write_text(\"CIFAR-10 CNN Classifier (TensorFlow/Keras). Organized with a src layout; notebooks for experiments; data/models/reports separated.\\n\")\n",
        "\n",
        "pathlib.Path(\"requirements.txt\").write_text(\"tensorflow\\nnumpy\\nmatplotlib\\ntqdm\\npytest\\n\")\n",
        "\n",
        "print(\"Scaffolf completed\")"
      ],
      "metadata": {
        "colab": {
          "base_uri": "https://localhost:8080/"
        },
        "id": "-gViwxIWJbrf",
        "outputId": "da7d143d-b0da-4bb8-ea50-3f00d7b70b41"
      },
      "execution_count": 7,
      "outputs": [
        {
          "output_type": "stream",
          "name": "stdout",
          "text": [
            "Scaffolf completed\n"
          ]
        }
      ]
    },
    {
      "cell_type": "code",
      "source": [
        "#initializing Git\n",
        "!git init\n",
        "!git config user.name \"MayurBhama\"\n",
        "!git config user.email \"mayurbhama9@gmail.com\""
      ],
      "metadata": {
        "colab": {
          "base_uri": "https://localhost:8080/"
        },
        "id": "z9qgukrDN_T4",
        "outputId": "9f8e600d-001f-4adf-a45c-08f4f91e0b56"
      },
      "execution_count": 8,
      "outputs": [
        {
          "output_type": "stream",
          "name": "stdout",
          "text": [
            "Reinitialized existing Git repository in /content/drive/MyDrive/cifar10-cnn/.git/\n"
          ]
        }
      ]
    },
    {
      "cell_type": "code",
      "source": [
        "!git add -A"
      ],
      "metadata": {
        "id": "M6NsZv-5PK-g"
      },
      "execution_count": 9,
      "outputs": []
    },
    {
      "cell_type": "code",
      "source": [
        "!git commit -m \"chore: initial scaffold with src layout\""
      ],
      "metadata": {
        "colab": {
          "base_uri": "https://localhost:8080/"
        },
        "id": "rsZ3XUGKPoxW",
        "outputId": "69d0652d-cc44-45d2-b12f-89779603e17a"
      },
      "execution_count": 10,
      "outputs": [
        {
          "output_type": "stream",
          "name": "stdout",
          "text": [
            "[main 2557a2e] chore: initial scaffold with src layout\n",
            " 4 files changed, 23 insertions(+)\n",
            " create mode 100644 README.md\n"
          ]
        }
      ]
    },
    {
      "cell_type": "code",
      "source": [
        "!git status"
      ],
      "metadata": {
        "colab": {
          "base_uri": "https://localhost:8080/"
        },
        "id": "uLtHxlsjPovP",
        "outputId": "1c5ae9cd-4a19-481e-ebc4-cc4b09d7bea3"
      },
      "execution_count": 11,
      "outputs": [
        {
          "output_type": "stream",
          "name": "stdout",
          "text": [
            "On branch main\n",
            "Your branch is ahead of 'origin/main' by 1 commit.\n",
            "  (use \"git push\" to publish your local commits)\n",
            "\n",
            "It took 3.48 seconds to compute the branch ahead/behind values.\n",
            "You can use '--no-ahead-behind' to avoid this.\n",
            "\n",
            "nothing to commit, working tree clean\n"
          ]
        }
      ]
    },
    {
      "cell_type": "code",
      "source": [
        "!git ls-files"
      ],
      "metadata": {
        "colab": {
          "base_uri": "https://localhost:8080/"
        },
        "id": "LaEKLm5xPosM",
        "outputId": "82a91395-5068-4a94-f6b8-1251f1c2d786"
      },
      "execution_count": 12,
      "outputs": [
        {
          "output_type": "stream",
          "name": "stdout",
          "text": [
            "README.md\n",
            "ReadMe.md\n",
            "data/.gitkeep\n",
            "models/.gitkeep\n",
            "notebooks/.gitkeep\n",
            "reports/.gitkeep\n",
            "requirements.txt\n",
            "src/cifar10_cnn/__init__.py\n",
            "src/cifar10_cnn/__pycache__/__init__.cpython-312.pyc\n",
            "src/cifar10_cnn/data/__init__.py\n",
            "src/cifar10_cnn/data/__pycache__/__init__.cpython-312.pyc\n",
            "src/cifar10_cnn/data/__pycache__/datasets.cpython-312.pyc\n",
            "src/cifar10_cnn/data/datasets.py\n",
            "src/cifar10_cnn/eval/__init__.py\n",
            "src/cifar10_cnn/models/__init__.py\n",
            "src/cifar10_cnn/models/__pycache__/__init__.cpython-312.pyc\n",
            "src/cifar10_cnn/models/__pycache__/cnn.cpython-312.pyc\n",
            "src/cifar10_cnn/models/cnn.py\n",
            "src/cifar10_cnn/train/__init__.py\n"
          ]
        }
      ]
    },
    {
      "cell_type": "code",
      "source": [
        "!git branch -M main\n"
      ],
      "metadata": {
        "id": "ijzWlafaPopn"
      },
      "execution_count": 13,
      "outputs": []
    },
    {
      "cell_type": "code",
      "source": [
        "!git push -u origin main"
      ],
      "metadata": {
        "colab": {
          "base_uri": "https://localhost:8080/"
        },
        "id": "xfWqg7DkZt8i",
        "outputId": "d5746b0f-b783-4f36-e5b2-b4abd29c99d6"
      },
      "execution_count": 15,
      "outputs": [
        {
          "output_type": "stream",
          "name": "stdout",
          "text": [
            "Enumerating objects: 17, done.\n",
            "Counting objects:   5% (1/17)\rCounting objects:  11% (2/17)\rCounting objects:  17% (3/17)\rCounting objects:  23% (4/17)\rCounting objects:  29% (5/17)\rCounting objects:  35% (6/17)\rCounting objects:  41% (7/17)\rCounting objects:  47% (8/17)\rCounting objects:  52% (9/17)\rCounting objects:  58% (10/17)\rCounting objects:  64% (11/17)\rCounting objects:  70% (12/17)\rCounting objects:  76% (13/17)\rCounting objects:  82% (14/17)\rCounting objects:  88% (15/17)\rCounting objects:  94% (16/17)\rCounting objects: 100% (17/17)\rCounting objects: 100% (17/17), done.\n",
            "Delta compression using up to 2 threads\n",
            "Compressing objects:  11% (1/9)\rCompressing objects:  22% (2/9)\rCompressing objects:  33% (3/9)\rCompressing objects:  44% (4/9)\rCompressing objects:  55% (5/9)\rCompressing objects:  66% (6/9)\rCompressing objects:  77% (7/9)\rCompressing objects:  88% (8/9)\rCompressing objects: 100% (9/9)\rCompressing objects: 100% (9/9), done.\n",
            "Writing objects:  10% (1/10)\rWriting objects:  20% (2/10)\rWriting objects:  30% (3/10)\rWriting objects:  40% (4/10)\rWriting objects:  50% (5/10)\rWriting objects:  60% (6/10)\rWriting objects:  70% (7/10)\rWriting objects:  80% (8/10)\rWriting objects:  90% (9/10)\rWriting objects: 100% (10/10)\rWriting objects: 100% (10/10), 2.39 KiB | 174.00 KiB/s, done.\n",
            "Total 10 (delta 4), reused 0 (delta 0), pack-reused 0\n",
            "remote: Resolving deltas: 100% (4/4), completed with 4 local objects.\u001b[K\n",
            "To https://github.com/MayurBhama/CIFAR-10-CNN-Classifier-.git\n",
            "   428d121..2557a2e  main -> main\n",
            "Branch 'main' set up to track remote branch 'main' from 'origin'.\n"
          ]
        }
      ]
    },
    {
      "cell_type": "code",
      "source": [
        "\"\"\"\n",
        "### Loading the Dataset:\n",
        "We begin by loading the CIFAR-10 dataset using our custom function. This function handles preprocessing steps like normalization and one-hot encoding.\n",
        "\"\"\""
      ],
      "metadata": {
        "colab": {
          "base_uri": "https://localhost:8080/",
          "height": 36
        },
        "id": "B6HAWNi4gIDj",
        "outputId": "359a41f1-db2d-4e27-b7a3-4ad67811392a"
      },
      "execution_count": 16,
      "outputs": [
        {
          "output_type": "execute_result",
          "data": {
            "text/plain": [
              "'\\n### Loading the Dataset:\\nWe begin by loading the CIFAR-10 dataset using our custom function. This function handles preprocessing steps like normalization and one-hot encoding.\\n'"
            ],
            "application/vnd.google.colaboratory.intrinsic+json": {
              "type": "string"
            }
          },
          "metadata": {},
          "execution_count": 16
        }
      ]
    },
    {
      "cell_type": "code",
      "source": [
        "#Data Loading Module\n",
        "%%writefile src/cifar10_cnn/data/datasets.py\n",
        "import tensorflow as tf\n",
        "from tensorflow import keras\n",
        "\n",
        "def get_cifar10_dataset(num_classes = 10):\n",
        "  \"\"\"\n",
        "  Loads and preprocesses the CIFAR-10 dataset.\n",
        "\n",
        "  Returns:\n",
        "  A Tuple of (x_train, y_train), (x_test, y_test).\n",
        "  Images are normalized to [0,1] and labels are one-hot encoded.\n",
        "  \"\"\"\n",
        "\n",
        "  #Load dataset using keras\n",
        "  (x_train, y_train), (x_test, y_test) = keras.datasets.cifar10.load_data()\n",
        "\n",
        "  #Normalize pixal values from integer [0, 255] to float [0.0, 1.0]\n",
        "  #Neural network generally perform better with small input values\n",
        "  x_train = x_train.astype(\"float32\") / 255.0 #original pixel values are stored as uint8 which cannot be stored as decimal values so we convert them to float 32, which can store decimal values like 0.5, 0.235 etc.\n",
        "  x_test = x_test.astype(\"float32\") / 255.0\n",
        "\n",
        "  #covert labels to one-hot encoding\n",
        "  y_train = keras.utils.to_categorical(y_train, num_classes)\n",
        "  y_test = keras.utils.to_categorical(y_test, num_classes)\n",
        "\n",
        "  return (x_train, y_train), (x_test, y_test)"
      ],
      "metadata": {
        "colab": {
          "base_uri": "https://localhost:8080/"
        },
        "id": "jgHYtgqHZt5u",
        "outputId": "c8ebcf3c-de39-43f4-d0fc-843f02f4d25f"
      },
      "execution_count": 17,
      "outputs": [
        {
          "output_type": "stream",
          "name": "stdout",
          "text": [
            "Overwriting src/cifar10_cnn/data/datasets.py\n"
          ]
        }
      ]
    },
    {
      "cell_type": "code",
      "source": [
        "!git add .\n",
        "!git commit -m \"feat: add data module for CIFAR-10 loading\"\n",
        "!git push"
      ],
      "metadata": {
        "colab": {
          "base_uri": "https://localhost:8080/"
        },
        "id": "HF3dkIyjest9",
        "outputId": "c5bae0f5-9447-4939-d3df-24704d5186dd"
      },
      "execution_count": 18,
      "outputs": [
        {
          "output_type": "stream",
          "name": "stdout",
          "text": [
            "[main 948d684] feat: add data module for CIFAR-10 loading\n",
            " 1 file changed, 3 insertions(+), 3 deletions(-)\n",
            "Enumerating objects: 11, done.\n",
            "Counting objects: 100% (11/11), done.\n",
            "Delta compression using up to 2 threads\n",
            "Compressing objects: 100% (5/5), done.\n",
            "Writing objects: 100% (6/6), 481 bytes | 120.00 KiB/s, done.\n",
            "Total 6 (delta 4), reused 0 (delta 0), pack-reused 0\n",
            "remote: Resolving deltas: 100% (4/4), completed with 4 local objects.\u001b[K\n",
            "To https://github.com/MayurBhama/CIFAR-10-CNN-Classifier-.git\n",
            "   2557a2e..948d684  main -> main\n"
          ]
        }
      ]
    },
    {
      "cell_type": "code",
      "source": [
        "\"\"\"\n",
        "This script is a \"unit test\" designed to confirm that the get_cifar10_dataset function, which is stored in a separate file, works correctly.\n",
        "\"\"\""
      ],
      "metadata": {
        "colab": {
          "base_uri": "https://localhost:8080/",
          "height": 36
        },
        "id": "9YhbCwaVihdU",
        "outputId": "4ae3ed87-ad46-42ff-913b-4ce9fda9142d"
      },
      "execution_count": 19,
      "outputs": [
        {
          "output_type": "execute_result",
          "data": {
            "text/plain": [
              "'\\nThis script is a \"unit test\" designed to confirm that the get_cifar10_dataset function, which is stored in a separate file, works correctly.\\n'"
            ],
            "application/vnd.google.colaboratory.intrinsic+json": {
              "type": "string"
            }
          },
          "metadata": {},
          "execution_count": 19
        }
      ]
    },
    {
      "cell_type": "code",
      "source": [
        "#Check if get_cifar10_dataset is working correctly\n",
        "project_root = \"/content/drive/MyDrive/cifar10-cnn\"\n",
        "src_path = os.path.join(project_root, \"src\")\n",
        "\n",
        "#Add the path if it's not already in the list\n",
        "if src_path not in sys.path:\n",
        "  sys.path.append(src_path)\n",
        "  print(f\"Added '{src_path}' to python path\")\n",
        "\n",
        "#This where we call the code we wrote in datasets.py\n",
        "try:\n",
        "  from cifar10_cnn.data.datasets import get_cifar10_dataset\n",
        "  print(\"Successfully imported the data loaded function!\\n\")\n",
        "\n",
        "  (x_train, y_train), (x_test, y_test) = get_cifar10_dataset()\n",
        "  print(\"Data loaded successfully!\")\n",
        "\n",
        "except ImportError as e:\n",
        "  print(f\"Failed to import function: {e}\")\n",
        "  print(\"Please make sure the file 'src/cidar10_cnn/data/datasets.py' exists.\")\n",
        "\n",
        "#Verify the data\n",
        "print(\"\\n--- Verifying Data Shapes ---\")\n",
        "print(f\"Training images shape: {x_train.shape}\")\n",
        "print(f\"Training images shape: {y_train.shape}\")\n",
        "\n",
        "print(\"\\n--- Verifying Normalization ---\")\n",
        "print(f\"Image data type: {x_train.dtype}\")\n",
        "print(f\"Min pixel value: {x_train.min()}\")\n",
        "print(f\"Max pixel value: {x_train.max()}\")\n",
        "\n",
        "print(\"\\n--- Verifying One-Hot Encoding ---\")\n",
        "print(f\"Example label: {y_train[0]}\")\n",
        "\n",
        "print(\"\\n--- Visualizing a sample ---\")\n",
        "class_names = ['airplane', 'automobile', 'bird', 'cat', 'deer',\n",
        "               'dog', 'frog', 'horse', 'ship', 'truck']\n",
        "\n",
        "plt.figure(figsize=(3,3))\n",
        "plt.imshow(x_train[0])\n",
        "plt.title(f\"Label: {class_names[np.argmax(y_train[0])]}\")\n",
        "plt.axis('off')\n",
        "plt.show()"
      ],
      "metadata": {
        "colab": {
          "base_uri": "https://localhost:8080/",
          "height": 655
        },
        "id": "ALbG4MooesrJ",
        "outputId": "1589129f-8958-45f3-a14a-a5ca82c0568a"
      },
      "execution_count": 20,
      "outputs": [
        {
          "output_type": "stream",
          "name": "stdout",
          "text": [
            "Added '/content/drive/MyDrive/cifar10-cnn/src' to python path\n",
            "Successfully imported the data loaded function!\n",
            "\n",
            "Downloading data from https://www.cs.toronto.edu/~kriz/cifar-10-python.tar.gz\n",
            "\u001b[1m170498071/170498071\u001b[0m \u001b[32m━━━━━━━━━━━━━━━━━━━━\u001b[0m\u001b[37m\u001b[0m \u001b[1m3s\u001b[0m 0us/step\n",
            "Data loaded successfully!\n",
            "\n",
            "--- Verifying Data Shapes ---\n",
            "Training images shape: (50000, 32, 32, 3)\n",
            "Training images shape: (50000, 10)\n",
            "\n",
            "--- Verifying Normalization ---\n",
            "Image data type: float32\n",
            "Min pixel value: 0.0\n",
            "Max pixel value: 1.0\n",
            "\n",
            "--- Verifying One-Hot Encoding ---\n",
            "Example label: [0. 0. 0. 0. 0. 0. 1. 0. 0. 0.]\n",
            "\n",
            "--- Visualizing a sample ---\n"
          ]
        },
        {
          "output_type": "display_data",
          "data": {
            "text/plain": [
              "<Figure size 300x300 with 1 Axes>"
            ],
            "image/png": "[encoded data removed]"
          },
          "metadata": {}
        }
      ]
    },
    {
      "cell_type": "code",
      "source": [
        "\"\"\"\n",
        "### Defining the Model Architectures\n",
        "Here we define two models:\n",
        "**`create_base_model`**: A simple CNN architecture that is prone to overfitting.\n",
        "\n",
        "------------------------------Baseline Model------------------------------\n",
        "Overall Structure: A simple, sequential CNN for image classification.\n",
        "\n",
        "Goal: To serve as a basic starting point for the task.\n",
        "\n",
        "\n",
        "------------------Feature Extractor (Convolutional Base)------------------\n",
        "Block 1: A Conv2D layer (32 filters) to find simple features, followed by MaxPooling2D to downsample.\n",
        "\n",
        "Block 2: A Conv2D layer (64 filters) to find more complex features, followed by MaxPooling2D.\n",
        "\n",
        "Block 3: Another Conv2D layer (64 filters) to refine features further.\n",
        "\n",
        "\n",
        "----------------------Classifier (Decision-Making Head)--------------------\n",
        "Flatten: Converts the 2D feature maps from the convolutional base into a 1D vector.\n",
        "\n",
        "Dense Layer: A fully-connected layer with 64 neurons to learn combinations of the extracted features.\n",
        "\n",
        "Output Layer: The final Dense layer with 10 neurons (one for each class) and a softmax activation to output probabilities for the final prediction.\n",
        "\n",
        "\"\"\""
      ],
      "metadata": {
        "colab": {
          "base_uri": "https://localhost:8080/",
          "height": 90
        },
        "id": "SwHY1jRcgW9t",
        "outputId": "7a268915-042d-4870-8400-9a63c5694814"
      },
      "execution_count": 21,
      "outputs": [
        {
          "output_type": "execute_result",
          "data": {
            "text/plain": [
              "'\\n### Defining the Model Architectures\\nHere we define two models:\\n**`create_base_model`**: A simple CNN architecture that is prone to overfitting.\\n\\n------------------------------Baseline Model------------------------------\\nOverall Structure: A simple, sequential CNN for image classification.\\n\\nGoal: To serve as a basic starting point for the task.\\n\\n\\n------------------Feature Extractor (Convolutional Base)------------------\\nBlock 1: A Conv2D layer (32 filters) to find simple features, followed by MaxPooling2D to downsample.\\n\\nBlock 2: A Conv2D layer (64 filters) to find more complex features, followed by MaxPooling2D.\\n\\nBlock 3: Another Conv2D layer (64 filters) to refine features further.\\n\\n\\n----------------------Classifier (Decision-Making Head)--------------------\\nFlatten: Converts the 2D feature maps from the convolutional base into a 1D vector.\\n\\nDense Layer: A fully-connected layer with 64 neurons to learn combinations of the extracted features.\\n\\nOutput Layer: The final Dense layer with 10 neurons (one for each class) and a softmax activation to output probabilities for the final prediction.\\n\\n'"
            ],
            "application/vnd.google.colaboratory.intrinsic+json": {
              "type": "string"
            }
          },
          "metadata": {},
          "execution_count": 21
        }
      ]
    },
    {
      "cell_type": "code",
      "source": [
        "#Building The Model Architecture\n",
        "%%writefile /content/drive/MyDrive/cifar10-cnn/src/cifar10_cnn/models/cnn.py\n",
        "import tensorflow as tf\n",
        "from tensorflow.keras import layers, models\n",
        "from keras.models import Sequential\n",
        "from keras.layers import Dense, Conv2D, MaxPooling2D\n",
        "from keras.layers import Dropout, Flatten, BatchNormalization\n",
        "from keras.regularizers import l2\n",
        "from keras.optimizers import Adam\n",
        "from keras.callbacks import EarlyStopping\n",
        "\n",
        "def create_cifar10_cnn(input_shape = (32, 32, 3), num_classes = 10):\n",
        "  \"\"\"\n",
        "  Creating a simple CNN model\n",
        "  \"\"\"\n",
        "  model = Sequential()\n",
        "\n",
        "  #Convolution block 1\n",
        "  model.add(Conv2D(32, (3, 3), activation = 'relu', padding = 'same', input_shape = input_shape))\n",
        "  #Adding maxpooling layer\n",
        "  model.add(MaxPooling2D((2,2)))\n",
        "\n",
        "  #Convolution block 2\n",
        "  model.add(Conv2D(64, (3,3), activation = 'relu', padding = \"same\"))\n",
        "  model.add(MaxPooling2D((2,2)))\n",
        "\n",
        "  #Convolution block 3\n",
        "  model.add(Conv2D(64, (3,3), activation = 'relu', padding = 'same'))\n",
        "\n",
        "  #Flatten the layer\n",
        "  model.add(Flatten())\n",
        "\n",
        "  #Adding hidden or dense layer\n",
        "  model.add(Dense(64, activation = 'relu'))\n",
        "\n",
        "  #Final output layer\n",
        "  model.add(Dense(num_classes, activation = 'softmax'))\n",
        "\n",
        "  return model"
      ],
      "metadata": {
        "colab": {
          "base_uri": "https://localhost:8080/"
        },
        "id": "ia2qpofYesmk",
        "outputId": "eb13cdf4-27d1-4000-9c0f-8931756f49e1"
      },
      "execution_count": 22,
      "outputs": [
        {
          "output_type": "stream",
          "name": "stdout",
          "text": [
            "Overwriting /content/drive/MyDrive/cifar10-cnn/src/cifar10_cnn/models/cnn.py\n"
          ]
        }
      ]
    },
    {
      "cell_type": "code",
      "source": [
        "!git add .\n",
        "!git commit -m \"feat: add CNN basic model architecture module\"\n",
        "!git push"
      ],
      "metadata": {
        "colab": {
          "base_uri": "https://localhost:8080/"
        },
        "id": "Bxf5YH-kesj_",
        "outputId": "16a8cdf0-ea3d-4ba9-ff54-fc61dccfa21b"
      },
      "execution_count": 23,
      "outputs": [
        {
          "output_type": "stream",
          "name": "stdout",
          "text": [
            "[main 314fc4e] feat: add CNN basic model architecture module\n",
            " 4 files changed, 10 insertions(+), 10 deletions(-)\n",
            "Enumerating objects: 21, done.\n",
            "Counting objects: 100% (21/21), done.\n",
            "Delta compression using up to 2 threads\n",
            "Compressing objects: 100% (11/11), done.\n",
            "Writing objects: 100% (12/12), 1.70 KiB | 108.00 KiB/s, done.\n",
            "Total 12 (delta 5), reused 0 (delta 0), pack-reused 0\n",
            "remote: Resolving deltas: 100% (5/5), completed with 4 local objects.\u001b[K\n",
            "To https://github.com/MayurBhama/CIFAR-10-CNN-Classifier-.git\n",
            "   948d684..314fc4e  main -> main\n"
          ]
        }
      ]
    },
    {
      "cell_type": "code",
      "source": [
        "%%writefile -a src/cifar10_cnn/models/__init__.py\n",
        "from .cnn import create_cifar10_cnn"
      ],
      "metadata": {
        "colab": {
          "base_uri": "https://localhost:8080/"
        },
        "id": "D_ELTAAkroEK",
        "outputId": "185a33fa-fb24-44b2-d67d-ab07a8e38efa"
      },
      "execution_count": 24,
      "outputs": [
        {
          "output_type": "stream",
          "name": "stdout",
          "text": [
            "Appending to src/cifar10_cnn/models/__init__.py\n"
          ]
        }
      ]
    },
    {
      "cell_type": "code",
      "source": [
        "\"\"\"\n",
        "This script acts as the main \"assembly line\" for the project.\n",
        "It brings together the data preparation and model architecture modules that were previously defined in separate .py files.\n",
        "\n",
        "---------------------------------------Setup and Imports--------------------------------\n",
        "\n",
        "-It first configures the system path to ensure Python can locate your custom modules.\n",
        "\n",
        "-It then imports the two key functions: get_cifar10_dataset (for data loading) and create_cifar10_cnn (for building the model).\n",
        "\n",
        "\n",
        "\n",
        "-----------------------------------------Data Loading-----------------------------------\n",
        "\n",
        "-It executes the get_cifar10_dataset function to load, normalize, and one-hot encode the training and testing data, preparing it for the model.\n",
        "\n",
        "\n",
        "\n",
        "----------------------------------------Model Creation----------------------------------\n",
        "\n",
        "-It calls the create_cifar10_cnn function to construct the neural network architecture that you defined earlier.\n",
        "\n",
        "\n",
        "\n",
        "---------------------------------------Model Compilation--------------------------------\n",
        "\n",
        "It uses model.compile() to configure the model for training. This step defines three crucial components:\n",
        "\n",
        "-Optimizer (adam): The algorithm that will be used to update the model's weights.\n",
        "\n",
        "-Loss Function (categorical_crossentropy): The function used to measure how wrong the model's predictions are.\n",
        "\n",
        "-Metrics (accuracy): The metric that will be used to judge the model's performance.\n",
        "\"\"\""
      ],
      "metadata": {
        "colab": {
          "base_uri": "https://localhost:8080/",
          "height": 90
        },
        "id": "5vJuf6VlkDDw",
        "outputId": "23ac0552-ab85-4fe6-bb90-0e674ad11533"
      },
      "execution_count": 25,
      "outputs": [
        {
          "output_type": "execute_result",
          "data": {
            "text/plain": [
              "'\\nThis script acts as the main \"assembly line\" for the project.\\nIt brings together the data preparation and model architecture modules that were previously defined in separate .py files.\\n\\n---------------------------------------Setup and Imports--------------------------------\\n\\n-It first configures the system path to ensure Python can locate your custom modules.\\n\\n-It then imports the two key functions: get_cifar10_dataset (for data loading) and create_cifar10_cnn (for building the model).\\n\\n\\n\\n-----------------------------------------Data Loading-----------------------------------\\n\\n-It executes the get_cifar10_dataset function to load, normalize, and one-hot encode the training and testing data, preparing it for the model.\\n\\n\\n\\n----------------------------------------Model Creation----------------------------------\\n\\n-It calls the create_cifar10_cnn function to construct the neural network architecture that you defined earlier.\\n\\n\\n\\n---------------------------------------Model Compilation--------------------------------\\n\\nIt uses model.compile() to configure the model for training. This step defines three crucial components:\\n\\n-Optimizer (adam): The algorithm that will be used to update the model\\'s weights.\\n\\n-Loss Function (categorical_crossentropy): The function used to measure how wrong the model\\'s predictions are.\\n\\n-Metrics (accuracy): The metric that will be used to judge the model\\'s performance.\\n'"
            ],
            "application/vnd.google.colaboratory.intrinsic+json": {
              "type": "string"
            }
          },
          "metadata": {},
          "execution_count": 25
        }
      ]
    },
    {
      "cell_type": "code",
      "source": [
        "#Setup and imports\n",
        "project_root = \"/content/drive/MyDrive/cifra10-cnn\"\n",
        "src_path = os.path.join(project_root, \"src\")\n",
        "if src_path not in sys.path:\n",
        "  sys.path.append(src_path)\n",
        "  print(f\"Added '{src_path}' to python path\")\n",
        "\n",
        "#Import the function you created in the .py files\n",
        "from cifar10_cnn.data.datasets import get_cifar10_dataset\n",
        "from cifar10_cnn.models.cnn import create_cifar10_cnn\n",
        "\n",
        "print(\"---Successfully imported all modules---\")\n",
        "\n",
        "#Load the data\n",
        "\n",
        "print(\"\\n---Loading and preprocessing the data...---\")\n",
        "(x_train, y_train), (x_test, y_test) = get_cifar10_dataset()\n",
        "print(\"Data loading completed\")\n",
        "\n",
        "#Create the model\n",
        "print(\"---\\nCreating the CNN Model...---\")\n",
        "model = create_cifar10_cnn()\n",
        "\n",
        "#Compile the model\n",
        "model.compile(optimizer= 'adam', loss = 'categorical_crossentropy', metrics = ['accuracy'])\n",
        "print(\"Model created and compile successfully\")\n",
        "\n",
        "model.summary()\n",
        "print(\"Model created successfully\")"
      ],
      "metadata": {
        "colab": {
          "base_uri": "https://localhost:8080/",
          "height": 594
        },
        "id": "rlYNwjeQeshd",
        "outputId": "d86ac1c4-2f03-480a-b57f-899c90d60401"
      },
      "execution_count": 26,
      "outputs": [
        {
          "output_type": "stream",
          "name": "stdout",
          "text": [
            "Added '/content/drive/MyDrive/cifra10-cnn/src' to python path\n",
            "---Successfully imported all modules---\n",
            "\n",
            "---Loading and preprocessing the data...---\n",
            "Data loading completed\n",
            "---\n",
            "Creating the CNN Model...---\n"
          ]
        },
        {
          "output_type": "stream",
          "name": "stderr",
          "text": [
            "/usr/local/lib/python3.12/dist-packages/keras/src/layers/convolutional/base_conv.py:113: UserWarning: Do not pass an `input_shape`/`input_dim` argument to a layer. When using Sequential models, prefer using an `Input(shape)` object as the first layer in the model instead.\n",
            "  super().__init__(activity_regularizer=activity_regularizer, **kwargs)\n"
          ]
        },
        {
          "output_type": "stream",
          "name": "stdout",
          "text": [
            "Model created and compile successfully\n"
          ]
        },
        {
          "output_type": "display_data",
          "data": {
            "text/plain": [
              "\u001b[1mModel: \"sequential\"\u001b[0m\n"
            ],
            "text/html": [
              "<pre style=\"white-space:pre;overflow-x:auto;line-height:normal;font-family:Menlo,'DejaVu Sans Mono',consolas,'Courier New',monospace\"><span style=\"font-weight: bold\">Model: \"sequential\"</span>\n",
              "</pre>\n"
            ]
          },
          "metadata": {}
        },
        {
          "output_type": "display_data",
          "data": {
            "text/plain": [
              "┏━━━━━━━━━━━━━━━━━━━━━━━━━━━━━━━━━┳━━━━━━━━━━━━━━━━━━━━━━━━┳━━━━━━━━━━━━━━━┓\n",
              "┃\u001b[1m \u001b[0m\u001b[1mLayer (type)                   \u001b[0m\u001b[1m \u001b[0m┃\u001b[1m \u001b[0m\u001b[1mOutput Shape          \u001b[0m\u001b[1m \u001b[0m┃\u001b[1m \u001b[0m\u001b[1m      Param #\u001b[0m\u001b[1m \u001b[0m┃\n",
              "┡━━━━━━━━━━━━━━━━━━━━━━━━━━━━━━━━━╇━━━━━━━━━━━━━━━━━━━━━━━━╇━━━━━━━━━━━━━━━┩\n",
              "│ conv2d (\u001b[38;5;33mConv2D\u001b[0m)                 │ (\u001b[38;5;45mNone\u001b[0m, \u001b[38;5;34m32\u001b[0m, \u001b[38;5;34m32\u001b[0m, \u001b[38;5;34m32\u001b[0m)     │           \u001b[38;5;34m896\u001b[0m │\n",
              "├─────────────────────────────────┼────────────────────────┼───────────────┤\n",
              "│ max_pooling2d (\u001b[38;5;33mMaxPooling2D\u001b[0m)    │ (\u001b[38;5;45mNone\u001b[0m, \u001b[38;5;34m16\u001b[0m, \u001b[38;5;34m16\u001b[0m, \u001b[38;5;34m32\u001b[0m)     │             \u001b[38;5;34m0\u001b[0m │\n",
              "├─────────────────────────────────┼────────────────────────┼───────────────┤\n",
              "│ conv2d_1 (\u001b[38;5;33mConv2D\u001b[0m)               │ (\u001b[38;5;45mNone\u001b[0m, \u001b[38;5;34m16\u001b[0m, \u001b[38;5;34m16\u001b[0m, \u001b[38;5;34m64\u001b[0m)     │        \u001b[38;5;34m18,496\u001b[0m │\n",
              "├─────────────────────────────────┼────────────────────────┼───────────────┤\n",
              "│ max_pooling2d_1 (\u001b[38;5;33mMaxPooling2D\u001b[0m)  │ (\u001b[38;5;45mNone\u001b[0m, \u001b[38;5;34m8\u001b[0m, \u001b[38;5;34m8\u001b[0m, \u001b[38;5;34m64\u001b[0m)       │             \u001b[38;5;34m0\u001b[0m │\n",
              "├─────────────────────────────────┼────────────────────────┼───────────────┤\n",
              "│ conv2d_2 (\u001b[38;5;33mConv2D\u001b[0m)               │ (\u001b[38;5;45mNone\u001b[0m, \u001b[38;5;34m8\u001b[0m, \u001b[38;5;34m8\u001b[0m, \u001b[38;5;34m64\u001b[0m)       │        \u001b[38;5;34m36,928\u001b[0m │\n",
              "├─────────────────────────────────┼────────────────────────┼───────────────┤\n",
              "│ flatten (\u001b[38;5;33mFlatten\u001b[0m)               │ (\u001b[38;5;45mNone\u001b[0m, \u001b[38;5;34m4096\u001b[0m)           │             \u001b[38;5;34m0\u001b[0m │\n",
              "├─────────────────────────────────┼────────────────────────┼───────────────┤\n",
              "│ dense (\u001b[38;5;33mDense\u001b[0m)                   │ (\u001b[38;5;45mNone\u001b[0m, \u001b[38;5;34m64\u001b[0m)             │       \u001b[38;5;34m262,208\u001b[0m │\n",
              "├─────────────────────────────────┼────────────────────────┼───────────────┤\n",
              "│ dense_1 (\u001b[38;5;33mDense\u001b[0m)                 │ (\u001b[38;5;45mNone\u001b[0m, \u001b[38;5;34m10\u001b[0m)             │           \u001b[38;5;34m650\u001b[0m │\n",
              "└─────────────────────────────────┴────────────────────────┴───────────────┘\n"
            ],
            "text/html": [
              "<pre style=\"white-space:pre;overflow-x:auto;line-height:normal;font-family:Menlo,'DejaVu Sans Mono',consolas,'Courier New',monospace\">┏━━━━━━━━━━━━━━━━━━━━━━━━━━━━━━━━━┳━━━━━━━━━━━━━━━━━━━━━━━━┳━━━━━━━━━━━━━━━┓\n",
              "┃<span style=\"font-weight: bold\"> Layer (type)                    </span>┃<span style=\"font-weight: bold\"> Output Shape           </span>┃<span style=\"font-weight: bold\">       Param # </span>┃\n",
              "┡━━━━━━━━━━━━━━━━━━━━━━━━━━━━━━━━━╇━━━━━━━━━━━━━━━━━━━━━━━━╇━━━━━━━━━━━━━━━┩\n",
              "│ conv2d (<span style=\"color: #0087ff; text-decoration-color: #0087ff\">Conv2D</span>)                 │ (<span style=\"color: #00d7ff; text-decoration-color: #00d7ff\">None</span>, <span style=\"color: #00af00; text-decoration-color: #00af00\">32</span>, <span style=\"color: #00af00; text-decoration-color: #00af00\">32</span>, <span style=\"color: #00af00; text-decoration-color: #00af00\">32</span>)     │           <span style=\"color: #00af00; text-decoration-color: #00af00\">896</span> │\n",
              "├─────────────────────────────────┼────────────────────────┼───────────────┤\n",
              "│ max_pooling2d (<span style=\"color: #0087ff; text-decoration-color: #0087ff\">MaxPooling2D</span>)    │ (<span style=\"color: #00d7ff; text-decoration-color: #00d7ff\">None</span>, <span style=\"color: #00af00; text-decoration-color: #00af00\">16</span>, <span style=\"color: #00af00; text-decoration-color: #00af00\">16</span>, <span style=\"color: #00af00; text-decoration-color: #00af00\">32</span>)     │             <span style=\"color: #00af00; text-decoration-color: #00af00\">0</span> │\n",
              "├─────────────────────────────────┼────────────────────────┼───────────────┤\n",
              "│ conv2d_1 (<span style=\"color: #0087ff; text-decoration-color: #0087ff\">Conv2D</span>)               │ (<span style=\"color: #00d7ff; text-decoration-color: #00d7ff\">None</span>, <span style=\"color: #00af00; text-decoration-color: #00af00\">16</span>, <span style=\"color: #00af00; text-decoration-color: #00af00\">16</span>, <span style=\"color: #00af00; text-decoration-color: #00af00\">64</span>)     │        <span style=\"color: #00af00; text-decoration-color: #00af00\">18,496</span> │\n",
              "├─────────────────────────────────┼────────────────────────┼───────────────┤\n",
              "│ max_pooling2d_1 (<span style=\"color: #0087ff; text-decoration-color: #0087ff\">MaxPooling2D</span>)  │ (<span style=\"color: #00d7ff; text-decoration-color: #00d7ff\">None</span>, <span style=\"color: #00af00; text-decoration-color: #00af00\">8</span>, <span style=\"color: #00af00; text-decoration-color: #00af00\">8</span>, <span style=\"color: #00af00; text-decoration-color: #00af00\">64</span>)       │             <span style=\"color: #00af00; text-decoration-color: #00af00\">0</span> │\n",
              "├─────────────────────────────────┼────────────────────────┼───────────────┤\n",
              "│ conv2d_2 (<span style=\"color: #0087ff; text-decoration-color: #0087ff\">Conv2D</span>)               │ (<span style=\"color: #00d7ff; text-decoration-color: #00d7ff\">None</span>, <span style=\"color: #00af00; text-decoration-color: #00af00\">8</span>, <span style=\"color: #00af00; text-decoration-color: #00af00\">8</span>, <span style=\"color: #00af00; text-decoration-color: #00af00\">64</span>)       │        <span style=\"color: #00af00; text-decoration-color: #00af00\">36,928</span> │\n",
              "├─────────────────────────────────┼────────────────────────┼───────────────┤\n",
              "│ flatten (<span style=\"color: #0087ff; text-decoration-color: #0087ff\">Flatten</span>)               │ (<span style=\"color: #00d7ff; text-decoration-color: #00d7ff\">None</span>, <span style=\"color: #00af00; text-decoration-color: #00af00\">4096</span>)           │             <span style=\"color: #00af00; text-decoration-color: #00af00\">0</span> │\n",
              "├─────────────────────────────────┼────────────────────────┼───────────────┤\n",
              "│ dense (<span style=\"color: #0087ff; text-decoration-color: #0087ff\">Dense</span>)                   │ (<span style=\"color: #00d7ff; text-decoration-color: #00d7ff\">None</span>, <span style=\"color: #00af00; text-decoration-color: #00af00\">64</span>)             │       <span style=\"color: #00af00; text-decoration-color: #00af00\">262,208</span> │\n",
              "├─────────────────────────────────┼────────────────────────┼───────────────┤\n",
              "│ dense_1 (<span style=\"color: #0087ff; text-decoration-color: #0087ff\">Dense</span>)                 │ (<span style=\"color: #00d7ff; text-decoration-color: #00d7ff\">None</span>, <span style=\"color: #00af00; text-decoration-color: #00af00\">10</span>)             │           <span style=\"color: #00af00; text-decoration-color: #00af00\">650</span> │\n",
              "└─────────────────────────────────┴────────────────────────┴───────────────┘\n",
              "</pre>\n"
            ]
          },
          "metadata": {}
        },
        {
          "output_type": "display_data",
          "data": {
            "text/plain": [
              "\u001b[1m Total params: \u001b[0m\u001b[38;5;34m319,178\u001b[0m (1.22 MB)\n"
            ],
            "text/html": [
              "<pre style=\"white-space:pre;overflow-x:auto;line-height:normal;font-family:Menlo,'DejaVu Sans Mono',consolas,'Courier New',monospace\"><span style=\"font-weight: bold\"> Total params: </span><span style=\"color: #00af00; text-decoration-color: #00af00\">319,178</span> (1.22 MB)\n",
              "</pre>\n"
            ]
          },
          "metadata": {}
        },
        {
          "output_type": "display_data",
          "data": {
            "text/plain": [
              "\u001b[1m Trainable params: \u001b[0m\u001b[38;5;34m319,178\u001b[0m (1.22 MB)\n"
            ],
            "text/html": [
              "<pre style=\"white-space:pre;overflow-x:auto;line-height:normal;font-family:Menlo,'DejaVu Sans Mono',consolas,'Courier New',monospace\"><span style=\"font-weight: bold\"> Trainable params: </span><span style=\"color: #00af00; text-decoration-color: #00af00\">319,178</span> (1.22 MB)\n",
              "</pre>\n"
            ]
          },
          "metadata": {}
        },
        {
          "output_type": "display_data",
          "data": {
            "text/plain": [
              "\u001b[1m Non-trainable params: \u001b[0m\u001b[38;5;34m0\u001b[0m (0.00 B)\n"
            ],
            "text/html": [
              "<pre style=\"white-space:pre;overflow-x:auto;line-height:normal;font-family:Menlo,'DejaVu Sans Mono',consolas,'Courier New',monospace\"><span style=\"font-weight: bold\"> Non-trainable params: </span><span style=\"color: #00af00; text-decoration-color: #00af00\">0</span> (0.00 B)\n",
              "</pre>\n"
            ]
          },
          "metadata": {}
        },
        {
          "output_type": "stream",
          "name": "stdout",
          "text": [
            "Model created successfully\n"
          ]
        }
      ]
    },
    {
      "cell_type": "code",
      "source": [
        "\"\"\"\n",
        "This script executes the core training process for the baseline CNN model that was previously compiled.\n",
        "\"\"\""
      ],
      "metadata": {
        "colab": {
          "base_uri": "https://localhost:8080/",
          "height": 36
        },
        "id": "1PWAngsHlByd",
        "outputId": "deefaaec-4eb5-452e-cc85-7cecbf3d8231"
      },
      "execution_count": 27,
      "outputs": [
        {
          "output_type": "execute_result",
          "data": {
            "text/plain": [
              "'\\nThis script executes the core training process for the baseline CNN model that was previously compiled.\\n'"
            ],
            "application/vnd.google.colaboratory.intrinsic+json": {
              "type": "string"
            }
          },
          "metadata": {},
          "execution_count": 27
        }
      ]
    },
    {
      "cell_type": "code",
      "source": [
        "#Train the model\n",
        "print(\"\\n---Starting model training---\")\n",
        "history = model.fit(x_train,\n",
        "                    y_train,\n",
        "                    epochs = 15,\n",
        "                    batch_size = 64,\n",
        "                    validation_split = 0.2)\n",
        "\n",
        "print(\"---Model Training Complete...---\")"
      ],
      "metadata": {
        "colab": {
          "base_uri": "https://localhost:8080/"
        },
        "id": "QMgF3t5nplzF",
        "outputId": "e7123edd-2f57-4d1d-fdc8-4f35941f9962"
      },
      "execution_count": 28,
      "outputs": [
        {
          "output_type": "stream",
          "name": "stdout",
          "text": [
            "\n",
            "---Starting model training---\n",
            "Epoch 1/15\n",
            "\u001b[1m625/625\u001b[0m \u001b[32m━━━━━━━━━━━━━━━━━━━━\u001b[0m\u001b[37m\u001b[0m \u001b[1m9s\u001b[0m 7ms/step - accuracy: 0.3504 - loss: 1.7622 - val_accuracy: 0.5642 - val_loss: 1.2294\n",
            "Epoch 2/15\n",
            "\u001b[1m625/625\u001b[0m \u001b[32m━━━━━━━━━━━━━━━━━━━━\u001b[0m\u001b[37m\u001b[0m \u001b[1m3s\u001b[0m 5ms/step - accuracy: 0.5898 - loss: 1.1498 - val_accuracy: 0.6352 - val_loss: 1.0192\n",
            "Epoch 3/15\n",
            "\u001b[1m625/625\u001b[0m \u001b[32m━━━━━━━━━━━━━━━━━━━━\u001b[0m\u001b[37m\u001b[0m \u001b[1m3s\u001b[0m 5ms/step - accuracy: 0.6710 - loss: 0.9442 - val_accuracy: 0.6559 - val_loss: 0.9949\n",
            "Epoch 4/15\n",
            "\u001b[1m625/625\u001b[0m \u001b[32m━━━━━━━━━━━━━━━━━━━━\u001b[0m\u001b[37m\u001b[0m \u001b[1m3s\u001b[0m 4ms/step - accuracy: 0.7101 - loss: 0.8312 - val_accuracy: 0.7043 - val_loss: 0.8510\n",
            "Epoch 5/15\n",
            "\u001b[1m625/625\u001b[0m \u001b[32m━━━━━━━━━━━━━━━━━━━━\u001b[0m\u001b[37m\u001b[0m \u001b[1m3s\u001b[0m 4ms/step - accuracy: 0.7421 - loss: 0.7320 - val_accuracy: 0.7032 - val_loss: 0.8550\n",
            "Epoch 6/15\n",
            "\u001b[1m625/625\u001b[0m \u001b[32m━━━━━━━━━━━━━━━━━━━━\u001b[0m\u001b[37m\u001b[0m \u001b[1m3s\u001b[0m 4ms/step - accuracy: 0.7721 - loss: 0.6548 - val_accuracy: 0.7113 - val_loss: 0.8521\n",
            "Epoch 7/15\n",
            "\u001b[1m625/625\u001b[0m \u001b[32m━━━━━━━━━━━━━━━━━━━━\u001b[0m\u001b[37m\u001b[0m \u001b[1m3s\u001b[0m 5ms/step - accuracy: 0.7899 - loss: 0.6011 - val_accuracy: 0.7162 - val_loss: 0.8390\n",
            "Epoch 8/15\n",
            "\u001b[1m625/625\u001b[0m \u001b[32m━━━━━━━━━━━━━━━━━━━━\u001b[0m\u001b[37m\u001b[0m \u001b[1m3s\u001b[0m 5ms/step - accuracy: 0.8178 - loss: 0.5215 - val_accuracy: 0.7266 - val_loss: 0.8400\n",
            "Epoch 9/15\n",
            "\u001b[1m625/625\u001b[0m \u001b[32m━━━━━━━━━━━━━━━━━━━━\u001b[0m\u001b[37m\u001b[0m \u001b[1m3s\u001b[0m 4ms/step - accuracy: 0.8342 - loss: 0.4738 - val_accuracy: 0.7124 - val_loss: 0.8930\n",
            "Epoch 10/15\n",
            "\u001b[1m625/625\u001b[0m \u001b[32m━━━━━━━━━━━━━━━━━━━━\u001b[0m\u001b[37m\u001b[0m \u001b[1m3s\u001b[0m 4ms/step - accuracy: 0.8536 - loss: 0.4143 - val_accuracy: 0.7239 - val_loss: 0.8690\n",
            "Epoch 11/15\n",
            "\u001b[1m625/625\u001b[0m \u001b[32m━━━━━━━━━━━━━━━━━━━━\u001b[0m\u001b[37m\u001b[0m \u001b[1m3s\u001b[0m 4ms/step - accuracy: 0.8751 - loss: 0.3613 - val_accuracy: 0.7224 - val_loss: 0.9476\n",
            "Epoch 12/15\n",
            "\u001b[1m625/625\u001b[0m \u001b[32m━━━━━━━━━━━━━━━━━━━━\u001b[0m\u001b[37m\u001b[0m \u001b[1m3s\u001b[0m 5ms/step - accuracy: 0.8921 - loss: 0.3130 - val_accuracy: 0.7170 - val_loss: 0.9640\n",
            "Epoch 13/15\n",
            "\u001b[1m625/625\u001b[0m \u001b[32m━━━━━━━━━━━━━━━━━━━━\u001b[0m\u001b[37m\u001b[0m \u001b[1m3s\u001b[0m 4ms/step - accuracy: 0.9026 - loss: 0.2772 - val_accuracy: 0.7016 - val_loss: 1.1158\n",
            "Epoch 14/15\n",
            "\u001b[1m625/625\u001b[0m \u001b[32m━━━━━━━━━━━━━━━━━━━━\u001b[0m\u001b[37m\u001b[0m \u001b[1m3s\u001b[0m 4ms/step - accuracy: 0.9179 - loss: 0.2385 - val_accuracy: 0.7163 - val_loss: 1.1205\n",
            "Epoch 15/15\n",
            "\u001b[1m625/625\u001b[0m \u001b[32m━━━━━━━━━━━━━━━━━━━━\u001b[0m\u001b[37m\u001b[0m \u001b[1m3s\u001b[0m 4ms/step - accuracy: 0.9293 - loss: 0.2065 - val_accuracy: 0.7177 - val_loss: 1.1729\n",
            "---Model Training Complete...---\n"
          ]
        }
      ]
    },
    {
      "cell_type": "code",
      "source": [
        "#Evaluate The Model\n",
        "print(\"\\n---Evaluating model performance on the test set...---\")\n",
        "test_loss, test_accuracy = model.evaluate(x_test, y_test, verbose = 2)\n",
        "print(f\"\\nTest Accuracy: {test_accuracy*100:.2f}%\")"
      ],
      "metadata": {
        "colab": {
          "base_uri": "https://localhost:8080/"
        },
        "id": "ksEIopB9plv3",
        "outputId": "88f0807d-5651-47f4-b9be-911ef3d66360"
      },
      "execution_count": 29,
      "outputs": [
        {
          "output_type": "stream",
          "name": "stdout",
          "text": [
            "\n",
            "---Evaluating model performance on the test set...---\n",
            "313/313 - 1s - 4ms/step - accuracy: 0.7166 - loss: 1.1792\n",
            "\n",
            "Test Accuracy: 71.66%\n"
          ]
        }
      ]
    },
    {
      "cell_type": "code",
      "source": [
        "#Visualizing training results\n",
        "print(\"\\n---Plotting training history...---\")\n",
        "plt.figure(figsize = (12,4))\n",
        "\n",
        "#Ploting validation and training accuracy values\n",
        "plt.subplot(1,2,1)\n",
        "plt.plot(history.history['accuracy'])\n",
        "plt.plot(history.history['val_accuracy'])\n",
        "plt.title(\"Model Accuracy\")\n",
        "plt.ylabel(\"Accuracy\")\n",
        "plt.xlabel(\"Epoch\")\n",
        "plt.legend(['Train', 'Validation'], loc = 'upper left')\n",
        "\n",
        "#Ploting validation and training loss values\n",
        "plt.subplot(1,2,2)\n",
        "plt.plot(history.history['loss'])\n",
        "plt.plot(history.history['val_loss'])\n",
        "plt.title(\"Model loss\")\n",
        "plt.ylabel(\"loss\")\n",
        "plt.xlabel(\"Epoch\")\n",
        "plt.legend(['Train', 'Validation'], loc = 'upper left')\n",
        "\n",
        "plt.show()"
      ],
      "metadata": {
        "colab": {
          "base_uri": "https://localhost:8080/",
          "height": 447
        },
        "id": "d6Y6VRY8plr3",
        "outputId": "9b125187-c3be-47d5-db4e-f62d841cf3dd"
      },
      "execution_count": 30,
      "outputs": [
        {
          "output_type": "stream",
          "name": "stdout",
          "text": [
            "\n",
            "---Plotting training history...---\n"
          ]
        },
        {
          "output_type": "display_data",
          "data": {
            "text/plain": [
              "<Figure size 1200x400 with 2 Axes>"
            ],
            "image/png": "[encoded data removed]"
          },
          "metadata": {}
        }
      ]
    },
    {
      "cell_type": "code",
      "source": [
        "\"\"\"\n",
        "---Model Performance Inference---\n",
        "Overall Diagnosis: Clear and Significant Overfitting >> The model has successfully \"memorized\" the training data but has failed to learn the general patterns necessary to perform well on new, unseen data(the validation set)\n",
        "\n",
        "---Evidence from graph---\n",
        "1) Accuracy Plot Analysis:\n",
        "- Training Accuracy (blue line) shows a steady and consistent increase, reaching over 90%. This confirms the model is learning the training examples.\n",
        "- Validation Accuracy (orange line) increases for the first ~5 epochs, but then completely stagnates at around 72% and shows no further improvement.\n",
        "- The widening gap between the blue and orange lines is the key visual indicator of overfitting.\n",
        "\n",
        "2)Loss Plot Analysis:\n",
        "- Training Loss (blue line) consistently decreases, showing the model is becoming more confident in its predictions for the training data.\n",
        "- Validation Loss (orange line) is the most critical piece of evidence. It decreases until epoch 5, but then it begins to consistently RISE.\n",
        "- This divergence—where training loss goes down while validation loss goes up—is the definitive sign that the model is no longer generalizing and is actively getting worse at handling new data.\n",
        "\n",
        "---Conclusion---\n",
        "The optimal point for this model was around epoch 5. Any training beyond this point was counterproductive, as it only made the model more overfit to the training data.\n",
        "\n",
        "---Actionable Recommendations to fix---\n",
        "To improve the model, you should implement techniques to combat overfitting:\n",
        "1. Early Stopping: This is the most direct solution. Configure training to automatically stop when the val_loss does not improve for a set number of epochs (e.g., a patience of 3).\n",
        "2. Add Dropout Layers: Introduce Dropout layers into your CNN architecture (e.g., after pooling or dense layers) to prevent the network from relying too much on specific neurons.\n",
        "3. Data Augmentation: Use techniques to create more training data by randomly transforming existing images (e.g., rotations, width/height shifts, horizontal flips). This exposes the model to more variation.\n",
        "4. L2 Regularization: Add kernel_regularizer=l2(0.001) to your Conv2D and Dense layers to add a penalty for large weights, discouraging over-complexity.\n",
        "\"\"\""
      ],
      "metadata": {
        "colab": {
          "base_uri": "https://localhost:8080/",
          "height": 90
        },
        "id": "rSyPd3MqploR",
        "outputId": "6776ef12-3d50-4c56-fd5f-7673a632e40c"
      },
      "execution_count": 31,
      "outputs": [
        {
          "output_type": "execute_result",
          "data": {
            "text/plain": [
              "'\\n---Model Performance Inference---\\nOverall Diagnosis: Clear and Significant Overfitting >> The model has successfully \"memorized\" the training data but has failed to learn the general patterns necessary to perform well on new, unseen data(the validation set)\\n\\n---Evidence from graph---\\n1) Accuracy Plot Analysis:\\n- Training Accuracy (blue line) shows a steady and consistent increase, reaching over 90%. This confirms the model is learning the training examples.\\n- Validation Accuracy (orange line) increases for the first ~5 epochs, but then completely stagnates at around 72% and shows no further improvement.\\n- The widening gap between the blue and orange lines is the key visual indicator of overfitting.\\n\\n2)Loss Plot Analysis:\\n- Training Loss (blue line) consistently decreases, showing the model is becoming more confident in its predictions for the training data.\\n- Validation Loss (orange line) is the most critical piece of evidence. It decreases until epoch 5, but then it begins to consistently RISE.\\n- This divergence—where training loss goes down while validation loss goes up—is the definitive sign that the model is no longer generalizing and is actively getting worse at handling new data.\\n\\n---Conclusion---\\nThe optimal point for this model was around epoch 5. Any training beyond this point was counterproductive, as it only made the model more overfit to the training data.\\n\\n---Actionable Recommendations to fix---\\nTo improve the model, you should implement techniques to combat overfitting:\\n1. Early Stopping: This is the most direct solution. Configure training to automatically stop when the val_loss does not improve for a set number of epochs (e.g., a patience of 3).\\n2. Add Dropout Layers: Introduce Dropout layers into your CNN architecture (e.g., after pooling or dense layers) to prevent the network from relying too much on specific neurons.\\n3. Data Augmentation: Use techniques to create more training data by randomly transforming existing images (e.g., rotations, width/height shifts, horizontal flips). This exposes the model to more variation.\\n4. L2 Regularization: Add kernel_regularizer=l2(0.001) to your Conv2D and Dense layers to add a penalty for large weights, discouraging over-complexity.\\n'"
            ],
            "application/vnd.google.colaboratory.intrinsic+json": {
              "type": "string"
            }
          },
          "metadata": {},
          "execution_count": 31
        }
      ]
    },
    {
      "cell_type": "code",
      "source": [
        "\"\"\"\n",
        "This script defines a new, more advanced CNN model specifically designed to combat the overfitting problem that was identified with the baseline model.\n",
        "\n",
        "----------------------------------------------------Setup and Imports----------------------------------------------------------\n",
        "\n",
        "-It imports all necessary Keras layers and callbacks, including the crucial EarlyStopping and ReduceLROnPlateau for advanced training control.\n",
        "\n",
        "-It also sets up the system path and loads the CIFAR-10 dataset, just as the previous scripts did.\n",
        "\n",
        "\n",
        "----------------------------------------------Key Architectural Improvements---------------------------------------------------\n",
        "-Data Augmentation Layer: A new Sequential block is created at the very beginning. This special layer will randomly flip, rotate, and zoom the training images on-the-fly during training.\n",
        " This creates more data variety and helps the model generalize better.\n",
        "\n",
        "-Batch Normalization: BatchNormalization layers are added after every Conv2D and Dense layer. This helps to stabilize the training process, allowing the model to learn faster and more effectively.\n",
        "\n",
        "-Dropout Layers: Dropout layers are strategically added after the pooling layers. This regularization technique helps prevent the model from becoming too reliant on any single feature,\n",
        " forcing it to learn more robust patterns.\n",
        "\n",
        "\n",
        "-----------------------------------------------------Model Structure------------------------------------------------------------\n",
        "-The script defines two main parts: the data_augmentation model and the core_model. These will be combined later to form the final, complete model.\n",
        "\n",
        "-The core_model itself is a more robust version of the baseline, now enhanced with the Batch Normalization and Dropout layers.\n",
        "\"\"\""
      ],
      "metadata": {
        "colab": {
          "base_uri": "https://localhost:8080/",
          "height": 90
        },
        "id": "Apkf6ScqltZz",
        "outputId": "db355111-fad0-4dc8-8bbc-175e16d7ea05"
      },
      "execution_count": 32,
      "outputs": [
        {
          "output_type": "execute_result",
          "data": {
            "text/plain": [
              "'\\nThis script defines a new, more advanced CNN model specifically designed to combat the overfitting problem that was identified with the baseline model.\\n\\n----------------------------------------------------Setup and Imports----------------------------------------------------------\\n\\n-It imports all necessary Keras layers and callbacks, including the crucial EarlyStopping and ReduceLROnPlateau for advanced training control.\\n\\n-It also sets up the system path and loads the CIFAR-10 dataset, just as the previous scripts did.\\n\\n\\n----------------------------------------------Key Architectural Improvements---------------------------------------------------\\n-Data Augmentation Layer: A new Sequential block is created at the very beginning. This special layer will randomly flip, rotate, and zoom the training images on-the-fly during training.\\n This creates more data variety and helps the model generalize better.\\n\\n-Batch Normalization: BatchNormalization layers are added after every Conv2D and Dense layer. This helps to stabilize the training process, allowing the model to learn faster and more effectively.\\n\\n-Dropout Layers: Dropout layers are strategically added after the pooling layers. This regularization technique helps prevent the model from becoming too reliant on any single feature,\\n forcing it to learn more robust patterns.\\n\\n\\n-----------------------------------------------------Model Structure------------------------------------------------------------\\n-The script defines two main parts: the data_augmentation model and the core_model. These will be combined later to form the final, complete model.\\n\\n-The core_model itself is a more robust version of the baseline, now enhanced with the Batch Normalization and Dropout layers.\\n'"
            ],
            "application/vnd.google.colaboratory.intrinsic+json": {
              "type": "string"
            }
          },
          "metadata": {},
          "execution_count": 32
        }
      ]
    },
    {
      "cell_type": "code",
      "source": [
        "from keras.models import Sequential\n",
        "from tensorflow.keras import layers, models"
      ],
      "metadata": {
        "id": "whZDVzV9VoLd"
      },
      "execution_count": 33,
      "outputs": []
    },
    {
      "cell_type": "code",
      "source": [
        "#Optimizing the model to reduce overfitting\n",
        "from tensorflow.keras.callbacks import EarlyStopping, ReduceLROnPlateau\n",
        "\n",
        "project_root = \"/content/drive/MyDrive/cifar10-cnn\"\n",
        "src_path = os.path.join(project_root, \"src\")\n",
        "if src_path not in sys.path:\n",
        "  sys.path.append(src_path)\n",
        "\n",
        "#import the data loading function\n",
        "from cifar10_cnn.data.datasets import get_cifar10_dataset\n",
        "print(\"---Successfully imported all modules---\")\n",
        "\n",
        "#Load the data\n",
        "print(\"/n---Loading and preprocessing data...---\")\n",
        "(x_train, y_train), (x_test, y_test) = get_cifar10_dataset()\n",
        "print(\"Data loading complete.\")\n",
        "\n",
        "#Defining the optimized model architecture\n",
        "def create_optimized_model(input_shape=(32,32,3), num_classes = 10):\n",
        "  \"\"\"\n",
        "  Defines the final, robust CNN model with Data Augmentation, Batch Normalization,\n",
        "  and Dropout to combat overfitting.\n",
        "  \"\"\"\n",
        "\n",
        "  #Data Augmentation layers\n",
        "  data_augmentation = Sequential([\n",
        "      layers.RandomFlip(\"horizontal\"),\n",
        "      layers.RandomRotation(0.1),\n",
        "      layers.RandomZoom(0.1)\n",
        "  ], name = \"data_augmentation\")\n",
        "\n",
        "  #Defining the core model architecture\n",
        "  core_model = Sequential([\n",
        "      layers.Conv2D(32, (3,3), activation = \"relu\", padding = \"same\", input_shape = input_shape),\n",
        "      layers.BatchNormalization(),\n",
        "      layers.Conv2D(32, (3,3), activation = 'relu', padding = \"same\"),\n",
        "      layers.BatchNormalization(),\n",
        "      layers.MaxPooling2D((2,2)),\n",
        "      layers.Dropout(0.25),\n",
        "\n",
        "      layers.Conv2D(64, (3,3), activation = 'relu', padding = \"same\"),\n",
        "      layers.BatchNormalization(),\n",
        "      layers.Conv2D(64, (3,3), activation = 'relu', padding = 'same'),\n",
        "      layers.BatchNormalization(),\n",
        "      layers.MaxPooling2D((2,2)),\n",
        "      layers.Dropout(0.3),\n",
        "\n",
        "      layers.Conv2D(128, (3,3), activation = 'relu', padding = 'same'),\n",
        "      layers.BatchNormalization(),\n",
        "      layers.Conv2D(128, (3,3), activation = 'relu', padding = 'same'),\n",
        "      layers.BatchNormalization(),\n",
        "      layers.MaxPooling2D((2,2)),\n",
        "      layers.Dropout(0.4),\n",
        "\n",
        "      layers.Flatten(),\n",
        "      layers.Dense(128, activation ='relu'),\n",
        "      layers.BatchNormalization(),\n",
        "      layers.Dropout(0.5),\n",
        "      layers.Dense(num_classes, activation  = 'softmax')\n",
        "  ])\n",
        "\n",
        "  #Build the final model by combining data augmentation and the core architecture\n",
        "  model = Sequential([\n",
        "      data_augmentation,\n",
        "      core_model\n",
        "  ])\n",
        "\n",
        "  model.compile(optimizer = 'adam',\n",
        "                loss = 'categorical_crossentropy',\n",
        "                metrics = ['accuracy'])\n",
        "\n",
        "  return model"
      ],
      "metadata": {
        "colab": {
          "base_uri": "https://localhost:8080/"
        },
        "id": "tQ8dfZoEpllk",
        "outputId": "d7d383d5-2f33-46cf-c53f-498d9f2d0ee1"
      },
      "execution_count": 34,
      "outputs": [
        {
          "output_type": "stream",
          "name": "stdout",
          "text": [
            "---Successfully imported all modules---\n",
            "/n---Loading and preprocessing data...---\n",
            "Data loading complete.\n"
          ]
        }
      ]
    },
    {
      "cell_type": "code",
      "source": [
        "#Create the model and define callbacks\n",
        "print(\"\\n---Create the model and define callbacks---\")\n",
        "optimized_model = create_optimized_model()\n",
        "optimized_model.summary()"
      ],
      "metadata": {
        "colab": {
          "base_uri": "https://localhost:8080/",
          "height": 234
        },
        "id": "yja6cwmxplix",
        "outputId": "228e61ae-5959-43cc-c55f-647ef50c251b"
      },
      "execution_count": 35,
      "outputs": [
        {
          "output_type": "stream",
          "name": "stdout",
          "text": [
            "\n",
            "---Create the model and define callbacks---\n"
          ]
        },
        {
          "output_type": "display_data",
          "data": {
            "text/plain": [
              "\u001b[1mModel: \"sequential_2\"\u001b[0m\n"
            ],
            "text/html": [
              "<pre style=\"white-space:pre;overflow-x:auto;line-height:normal;font-family:Menlo,'DejaVu Sans Mono',consolas,'Courier New',monospace\"><span style=\"font-weight: bold\">Model: \"sequential_2\"</span>\n",
              "</pre>\n"
            ]
          },
          "metadata": {}
        },
        {
          "output_type": "display_data",
          "data": {
            "text/plain": [
              "┏━━━━━━━━━━━━━━━━━━━━━━━━━━━━━━━━━┳━━━━━━━━━━━━━━━━━━━━━━━━┳━━━━━━━━━━━━━━━┓\n",
              "┃\u001b[1m \u001b[0m\u001b[1mLayer (type)                   \u001b[0m\u001b[1m \u001b[0m┃\u001b[1m \u001b[0m\u001b[1mOutput Shape          \u001b[0m\u001b[1m \u001b[0m┃\u001b[1m \u001b[0m\u001b[1m      Param #\u001b[0m\u001b[1m \u001b[0m┃\n",
              "┡━━━━━━━━━━━━━━━━━━━━━━━━━━━━━━━━━╇━━━━━━━━━━━━━━━━━━━━━━━━╇━━━━━━━━━━━━━━━┩\n",
              "│ data_augmentation (\u001b[38;5;33mSequential\u001b[0m)  │ ?                      │   \u001b[38;5;34m0\u001b[0m (unbuilt) │\n",
              "├─────────────────────────────────┼────────────────────────┼───────────────┤\n",
              "│ sequential_1 (\u001b[38;5;33mSequential\u001b[0m)       │ (\u001b[38;5;45mNone\u001b[0m, \u001b[38;5;34m10\u001b[0m)             │       \u001b[38;5;34m552,874\u001b[0m │\n",
              "└─────────────────────────────────┴────────────────────────┴───────────────┘\n"
            ],
            "text/html": [
              "<pre style=\"white-space:pre;overflow-x:auto;line-height:normal;font-family:Menlo,'DejaVu Sans Mono',consolas,'Courier New',monospace\">┏━━━━━━━━━━━━━━━━━━━━━━━━━━━━━━━━━┳━━━━━━━━━━━━━━━━━━━━━━━━┳━━━━━━━━━━━━━━━┓\n",
              "┃<span style=\"font-weight: bold\"> Layer (type)                    </span>┃<span style=\"font-weight: bold\"> Output Shape           </span>┃<span style=\"font-weight: bold\">       Param # </span>┃\n",
              "┡━━━━━━━━━━━━━━━━━━━━━━━━━━━━━━━━━╇━━━━━━━━━━━━━━━━━━━━━━━━╇━━━━━━━━━━━━━━━┩\n",
              "│ data_augmentation (<span style=\"color: #0087ff; text-decoration-color: #0087ff\">Sequential</span>)  │ ?                      │   <span style=\"color: #00af00; text-decoration-color: #00af00\">0</span> (unbuilt) │\n",
              "├─────────────────────────────────┼────────────────────────┼───────────────┤\n",
              "│ sequential_1 (<span style=\"color: #0087ff; text-decoration-color: #0087ff\">Sequential</span>)       │ (<span style=\"color: #00d7ff; text-decoration-color: #00d7ff\">None</span>, <span style=\"color: #00af00; text-decoration-color: #00af00\">10</span>)             │       <span style=\"color: #00af00; text-decoration-color: #00af00\">552,874</span> │\n",
              "└─────────────────────────────────┴────────────────────────┴───────────────┘\n",
              "</pre>\n"
            ]
          },
          "metadata": {}
        },
        {
          "output_type": "display_data",
          "data": {
            "text/plain": [
              "\u001b[1m Total params: \u001b[0m\u001b[38;5;34m552,874\u001b[0m (2.11 MB)\n"
            ],
            "text/html": [
              "<pre style=\"white-space:pre;overflow-x:auto;line-height:normal;font-family:Menlo,'DejaVu Sans Mono',consolas,'Courier New',monospace\"><span style=\"font-weight: bold\"> Total params: </span><span style=\"color: #00af00; text-decoration-color: #00af00\">552,874</span> (2.11 MB)\n",
              "</pre>\n"
            ]
          },
          "metadata": {}
        },
        {
          "output_type": "display_data",
          "data": {
            "text/plain": [
              "\u001b[1m Trainable params: \u001b[0m\u001b[38;5;34m551,722\u001b[0m (2.10 MB)\n"
            ],
            "text/html": [
              "<pre style=\"white-space:pre;overflow-x:auto;line-height:normal;font-family:Menlo,'DejaVu Sans Mono',consolas,'Courier New',monospace\"><span style=\"font-weight: bold\"> Trainable params: </span><span style=\"color: #00af00; text-decoration-color: #00af00\">551,722</span> (2.10 MB)\n",
              "</pre>\n"
            ]
          },
          "metadata": {}
        },
        {
          "output_type": "display_data",
          "data": {
            "text/plain": [
              "\u001b[1m Non-trainable params: \u001b[0m\u001b[38;5;34m1,152\u001b[0m (4.50 KB)\n"
            ],
            "text/html": [
              "<pre style=\"white-space:pre;overflow-x:auto;line-height:normal;font-family:Menlo,'DejaVu Sans Mono',consolas,'Courier New',monospace\"><span style=\"font-weight: bold\"> Non-trainable params: </span><span style=\"color: #00af00; text-decoration-color: #00af00\">1,152</span> (4.50 KB)\n",
              "</pre>\n"
            ]
          },
          "metadata": {}
        }
      ]
    },
    {
      "cell_type": "code",
      "source": [
        "#Define the callbacks for smart training\n",
        "#Early_stopping: Stop training if 'val_loss' doesn't improve for 5 epochs\n",
        "early_stopping = EarlyStopping(monitor = 'val_loss', patience = 5, restore_best_weights = True)\n",
        "\n",
        "#ReduceLROnPlateau: Reduce the training learning rate if 'val_loss' plateaus.\n",
        "reduce_lr = ReduceLROnPlateau(monitor = \"val_loss\", factor = 0.2, patience = 2, min_lr = 0.0001)\n",
        "\n",
        "callbacks = [early_stopping, reduce_lr]\n",
        "\n"
      ],
      "metadata": {
        "id": "S2nsiRMwplf8"
      },
      "execution_count": 36,
      "outputs": []
    },
    {
      "cell_type": "code",
      "source": [
        "#Train the optimized model\n",
        "print(\"\\n---Starting Optimized Model Training...---\")\n",
        "history = optimized_model.fit(x_train, y_train, epochs = 50, batch_size = 64, validation_data = (x_test, y_test), callbacks = callbacks)\n",
        "print(\"\\n--- Optimized Model Training Complete.---\")"
      ],
      "metadata": {
        "colab": {
          "base_uri": "https://localhost:8080/"
        },
        "id": "1Z2InMqKplcz",
        "outputId": "46694866-f411-41cd-9a0d-65dcb5c09a45"
      },
      "execution_count": 37,
      "outputs": [
        {
          "output_type": "stream",
          "name": "stdout",
          "text": [
            "\n",
            "---Starting Optimized Model Training...---\n",
            "Epoch 1/50\n",
            "\u001b[1m782/782\u001b[0m \u001b[32m━━━━━━━━━━━━━━━━━━━━\u001b[0m\u001b[37m\u001b[0m \u001b[1m26s\u001b[0m 22ms/step - accuracy: 0.3196 - loss: 2.1361 - val_accuracy: 0.4168 - val_loss: 1.7336 - learning_rate: 0.0010\n",
            "Epoch 2/50\n",
            "\u001b[1m782/782\u001b[0m \u001b[32m━━━━━━━━━━━━━━━━━━━━\u001b[0m\u001b[37m\u001b[0m \u001b[1m16s\u001b[0m 21ms/step - accuracy: 0.5067 - loss: 1.3639 - val_accuracy: 0.5010 - val_loss: 1.4099 - learning_rate: 0.0010\n",
            "Epoch 3/50\n",
            "\u001b[1m782/782\u001b[0m \u001b[32m━━━━━━━━━━━━━━━━━━━━\u001b[0m\u001b[37m\u001b[0m \u001b[1m16s\u001b[0m 21ms/step - accuracy: 0.5728 - loss: 1.2062 - val_accuracy: 0.6046 - val_loss: 1.1138 - learning_rate: 0.0010\n",
            "Epoch 4/50\n",
            "\u001b[1m782/782\u001b[0m \u001b[32m━━━━━━━━━━━━━━━━━━━━\u001b[0m\u001b[37m\u001b[0m \u001b[1m17s\u001b[0m 21ms/step - accuracy: 0.6137 - loss: 1.0965 - val_accuracy: 0.6347 - val_loss: 1.0787 - learning_rate: 0.0010\n",
            "Epoch 5/50\n",
            "\u001b[1m782/782\u001b[0m \u001b[32m━━━━━━━━━━━━━━━━━━━━\u001b[0m\u001b[37m\u001b[0m \u001b[1m17s\u001b[0m 21ms/step - accuracy: 0.6404 - loss: 1.0271 - val_accuracy: 0.6174 - val_loss: 1.1620 - learning_rate: 0.0010\n",
            "Epoch 6/50\n",
            "\u001b[1m782/782\u001b[0m \u001b[32m━━━━━━━━━━━━━━━━━━━━\u001b[0m\u001b[37m\u001b[0m \u001b[1m16s\u001b[0m 21ms/step - accuracy: 0.6632 - loss: 0.9727 - val_accuracy: 0.7167 - val_loss: 0.8159 - learning_rate: 0.0010\n",
            "Epoch 7/50\n",
            "\u001b[1m782/782\u001b[0m \u001b[32m━━━━━━━━━━━━━━━━━━━━\u001b[0m\u001b[37m\u001b[0m \u001b[1m16s\u001b[0m 21ms/step - accuracy: 0.6869 - loss: 0.9100 - val_accuracy: 0.7218 - val_loss: 0.8063 - learning_rate: 0.0010\n",
            "Epoch 8/50\n",
            "\u001b[1m782/782\u001b[0m \u001b[32m━━━━━━━━━━━━━━━━━━━━\u001b[0m\u001b[37m\u001b[0m \u001b[1m17s\u001b[0m 21ms/step - accuracy: 0.6964 - loss: 0.8804 - val_accuracy: 0.7161 - val_loss: 0.8325 - learning_rate: 0.0010\n",
            "Epoch 9/50\n",
            "\u001b[1m782/782\u001b[0m \u001b[32m━━━━━━━━━━━━━━━━━━━━\u001b[0m\u001b[37m\u001b[0m \u001b[1m17s\u001b[0m 21ms/step - accuracy: 0.7067 - loss: 0.8459 - val_accuracy: 0.7081 - val_loss: 0.8971 - learning_rate: 0.0010\n",
            "Epoch 10/50\n",
            "\u001b[1m782/782\u001b[0m \u001b[32m━━━━━━━━━━━━━━━━━━━━\u001b[0m\u001b[37m\u001b[0m \u001b[1m16s\u001b[0m 21ms/step - accuracy: 0.7318 - loss: 0.7796 - val_accuracy: 0.7796 - val_loss: 0.6440 - learning_rate: 2.0000e-04\n",
            "Epoch 11/50\n",
            "\u001b[1m782/782\u001b[0m \u001b[32m━━━━━━━━━━━━━━━━━━━━\u001b[0m\u001b[37m\u001b[0m \u001b[1m16s\u001b[0m 21ms/step - accuracy: 0.7476 - loss: 0.7376 - val_accuracy: 0.7748 - val_loss: 0.6606 - learning_rate: 2.0000e-04\n",
            "Epoch 12/50\n",
            "\u001b[1m782/782\u001b[0m \u001b[32m━━━━━━━━━━━━━━━━━━━━\u001b[0m\u001b[37m\u001b[0m \u001b[1m17s\u001b[0m 22ms/step - accuracy: 0.7508 - loss: 0.7292 - val_accuracy: 0.7662 - val_loss: 0.6790 - learning_rate: 2.0000e-04\n",
            "Epoch 13/50\n",
            "\u001b[1m782/782\u001b[0m \u001b[32m━━━━━━━━━━━━━━━━━━━━\u001b[0m\u001b[37m\u001b[0m \u001b[1m16s\u001b[0m 21ms/step - accuracy: 0.7601 - loss: 0.7074 - val_accuracy: 0.7701 - val_loss: 0.6729 - learning_rate: 1.0000e-04\n",
            "Epoch 14/50\n",
            "\u001b[1m782/782\u001b[0m \u001b[32m━━━━━━━━━━━━━━━━━━━━\u001b[0m\u001b[37m\u001b[0m \u001b[1m16s\u001b[0m 21ms/step - accuracy: 0.7585 - loss: 0.7018 - val_accuracy: 0.7814 - val_loss: 0.6424 - learning_rate: 1.0000e-04\n",
            "Epoch 15/50\n",
            "\u001b[1m782/782\u001b[0m \u001b[32m━━━━━━━━━━━━━━━━━━━━\u001b[0m\u001b[37m\u001b[0m \u001b[1m21s\u001b[0m 22ms/step - accuracy: 0.7649 - loss: 0.6930 - val_accuracy: 0.7894 - val_loss: 0.6204 - learning_rate: 1.0000e-04\n",
            "Epoch 16/50\n",
            "\u001b[1m782/782\u001b[0m \u001b[32m━━━━━━━━━━━━━━━━━━━━\u001b[0m\u001b[37m\u001b[0m \u001b[1m20s\u001b[0m 21ms/step - accuracy: 0.7628 - loss: 0.6912 - val_accuracy: 0.7897 - val_loss: 0.6153 - learning_rate: 1.0000e-04\n",
            "Epoch 17/50\n",
            "\u001b[1m782/782\u001b[0m \u001b[32m━━━━━━━━━━━━━━━━━━━━\u001b[0m\u001b[37m\u001b[0m \u001b[1m16s\u001b[0m 21ms/step - accuracy: 0.7686 - loss: 0.6769 - val_accuracy: 0.7791 - val_loss: 0.6529 - learning_rate: 1.0000e-04\n",
            "Epoch 18/50\n",
            "\u001b[1m782/782\u001b[0m \u001b[32m━━━━━━━━━━━━━━━━━━━━\u001b[0m\u001b[37m\u001b[0m \u001b[1m17s\u001b[0m 21ms/step - accuracy: 0.7686 - loss: 0.6772 - val_accuracy: 0.7964 - val_loss: 0.6026 - learning_rate: 1.0000e-04\n",
            "Epoch 19/50\n",
            "\u001b[1m782/782\u001b[0m \u001b[32m━━━━━━━━━━━━━━━━━━━━\u001b[0m\u001b[37m\u001b[0m \u001b[1m16s\u001b[0m 21ms/step - accuracy: 0.7717 - loss: 0.6671 - val_accuracy: 0.7941 - val_loss: 0.6072 - learning_rate: 1.0000e-04\n",
            "Epoch 20/50\n",
            "\u001b[1m782/782\u001b[0m \u001b[32m━━━━━━━━━━━━━━━━━━━━\u001b[0m\u001b[37m\u001b[0m \u001b[1m17s\u001b[0m 21ms/step - accuracy: 0.7736 - loss: 0.6671 - val_accuracy: 0.7946 - val_loss: 0.6000 - learning_rate: 1.0000e-04\n",
            "Epoch 21/50\n",
            "\u001b[1m782/782\u001b[0m \u001b[32m━━━━━━━━━━━━━━━━━━━━\u001b[0m\u001b[37m\u001b[0m \u001b[1m17s\u001b[0m 22ms/step - accuracy: 0.7736 - loss: 0.6697 - val_accuracy: 0.7896 - val_loss: 0.6241 - learning_rate: 1.0000e-04\n",
            "Epoch 22/50\n",
            "\u001b[1m782/782\u001b[0m \u001b[32m━━━━━━━━━━━━━━━━━━━━\u001b[0m\u001b[37m\u001b[0m \u001b[1m17s\u001b[0m 21ms/step - accuracy: 0.7755 - loss: 0.6569 - val_accuracy: 0.7865 - val_loss: 0.6431 - learning_rate: 1.0000e-04\n",
            "Epoch 23/50\n",
            "\u001b[1m782/782\u001b[0m \u001b[32m━━━━━━━━━━━━━━━━━━━━\u001b[0m\u001b[37m\u001b[0m \u001b[1m16s\u001b[0m 21ms/step - accuracy: 0.7785 - loss: 0.6469 - val_accuracy: 0.7965 - val_loss: 0.6134 - learning_rate: 1.0000e-04\n",
            "Epoch 24/50\n",
            "\u001b[1m782/782\u001b[0m \u001b[32m━━━━━━━━━━━━━━━━━━━━\u001b[0m\u001b[37m\u001b[0m \u001b[1m17s\u001b[0m 21ms/step - accuracy: 0.7759 - loss: 0.6535 - val_accuracy: 0.8006 - val_loss: 0.5977 - learning_rate: 1.0000e-04\n",
            "Epoch 25/50\n",
            "\u001b[1m782/782\u001b[0m \u001b[32m━━━━━━━━━━━━━━━━━━━━\u001b[0m\u001b[37m\u001b[0m \u001b[1m17s\u001b[0m 22ms/step - accuracy: 0.7748 - loss: 0.6544 - val_accuracy: 0.8006 - val_loss: 0.5951 - learning_rate: 1.0000e-04\n",
            "Epoch 26/50\n",
            "\u001b[1m782/782\u001b[0m \u001b[32m━━━━━━━━━━━━━━━━━━━━\u001b[0m\u001b[37m\u001b[0m \u001b[1m17s\u001b[0m 22ms/step - accuracy: 0.7847 - loss: 0.6336 - val_accuracy: 0.8037 - val_loss: 0.5768 - learning_rate: 1.0000e-04\n",
            "Epoch 27/50\n",
            "\u001b[1m782/782\u001b[0m \u001b[32m━━━━━━━━━━━━━━━━━━━━\u001b[0m\u001b[37m\u001b[0m \u001b[1m17s\u001b[0m 21ms/step - accuracy: 0.7799 - loss: 0.6420 - val_accuracy: 0.7927 - val_loss: 0.6156 - learning_rate: 1.0000e-04\n",
            "Epoch 28/50\n",
            "\u001b[1m782/782\u001b[0m \u001b[32m━━━━━━━━━━━━━━━━━━━━\u001b[0m\u001b[37m\u001b[0m \u001b[1m17s\u001b[0m 21ms/step - accuracy: 0.7849 - loss: 0.6314 - val_accuracy: 0.8053 - val_loss: 0.5708 - learning_rate: 1.0000e-04\n",
            "Epoch 29/50\n",
            "\u001b[1m782/782\u001b[0m \u001b[32m━━━━━━━━━━━━━━━━━━━━\u001b[0m\u001b[37m\u001b[0m \u001b[1m17s\u001b[0m 22ms/step - accuracy: 0.7835 - loss: 0.6326 - val_accuracy: 0.7961 - val_loss: 0.6073 - learning_rate: 1.0000e-04\n",
            "Epoch 30/50\n",
            "\u001b[1m782/782\u001b[0m \u001b[32m━━━━━━━━━━━━━━━━━━━━\u001b[0m\u001b[37m\u001b[0m \u001b[1m17s\u001b[0m 21ms/step - accuracy: 0.7835 - loss: 0.6334 - val_accuracy: 0.8036 - val_loss: 0.5822 - learning_rate: 1.0000e-04\n",
            "Epoch 31/50\n",
            "\u001b[1m782/782\u001b[0m \u001b[32m━━━━━━━━━━━━━━━━━━━━\u001b[0m\u001b[37m\u001b[0m \u001b[1m17s\u001b[0m 21ms/step - accuracy: 0.7822 - loss: 0.6320 - val_accuracy: 0.7986 - val_loss: 0.5921 - learning_rate: 1.0000e-04\n",
            "Epoch 32/50\n",
            "\u001b[1m782/782\u001b[0m \u001b[32m━━━━━━━━━━━━━━━━━━━━\u001b[0m\u001b[37m\u001b[0m \u001b[1m17s\u001b[0m 22ms/step - accuracy: 0.7884 - loss: 0.6214 - val_accuracy: 0.8015 - val_loss: 0.5888 - learning_rate: 1.0000e-04\n",
            "Epoch 33/50\n",
            "\u001b[1m782/782\u001b[0m \u001b[32m━━━━━━━━━━━━━━━━━━━━\u001b[0m\u001b[37m\u001b[0m \u001b[1m17s\u001b[0m 22ms/step - accuracy: 0.7856 - loss: 0.6319 - val_accuracy: 0.8078 - val_loss: 0.5758 - learning_rate: 1.0000e-04\n",
            "\n",
            "--- Optimized Model Training Complete.---\n"
          ]
        }
      ]
    },
    {
      "cell_type": "code",
      "source": [
        "#Visualizing training and evaluate the final model\n",
        "print(\"\\n --- Plotting training history...---\")\n",
        "plt.figure(figsize = (12,5))\n",
        "\n",
        "#Plot accuracy\n",
        "plt.subplot(1,2,1)\n",
        "plt.plot(history.history['accuracy'], label = 'Train Accuracy')\n",
        "plt.plot(history.history['val_accuracy'], label = 'Validation Accuracy')\n",
        "plt.title(\"Optimized Model Accuracy\")\n",
        "plt.ylabel(\"Accuracy\")\n",
        "plt.xlabel(\"Epoch\")\n",
        "plt.legend()\n",
        "\n",
        "#PLot Loss\n",
        "plt.subplot(1,2,2)\n",
        "plt.plot(history.history[\"loss\"], label = \"Train loss\")\n",
        "plt.plot(history.history[\"val_loss\"], label = \"Validation Loss\")\n",
        "plt.title(\"Optimized Model Loss\")\n",
        "plt.ylabel(\"Loss\")\n",
        "plt.xlabel(\"Epoch\")\n",
        "plt.legend()\n",
        "\n",
        "plt.show()"
      ],
      "metadata": {
        "colab": {
          "base_uri": "https://localhost:8080/",
          "height": 524
        },
        "id": "qPXF8wtUplaP",
        "outputId": "b5046d8e-9dd2-43ff-9c8f-bad9b9ffa96d"
      },
      "execution_count": 38,
      "outputs": [
        {
          "output_type": "stream",
          "name": "stdout",
          "text": [
            "\n",
            " --- Plotting training history...---\n"
          ]
        },
        {
          "output_type": "display_data",
          "data": {
            "text/plain": [
              "<Figure size 1200x500 with 2 Axes>"
            ],
            "image/png": "[encoded data removed]"
          },
          "metadata": {}
        }
      ]
    },
    {
      "cell_type": "code",
      "source": [
        "#Optimized model evaluation\n",
        "print(\"\\n---Final Performance on unseen test data---\")\n",
        "final_loss, final_accuracy = optimized_model.evaluate(x_test, y_test, verbose = 0)\n",
        "print(f\"\\nFinal Test Accuracy of the Optimized Model: {final_accuracy*100:.2f}%\")"
      ],
      "metadata": {
        "colab": {
          "base_uri": "https://localhost:8080/"
        },
        "id": "eIltoYzLplXL",
        "outputId": "8fd38eaf-280f-4ff1-8856-3f96a51d1eee"
      },
      "execution_count": 39,
      "outputs": [
        {
          "output_type": "stream",
          "name": "stdout",
          "text": [
            "\n",
            "---Final Performance on unseen test data---\n",
            "\n",
            "Final Test Accuracy of the Optimized Model: 80.53%\n"
          ]
        }
      ]
    },
    {
      "cell_type": "code",
      "source": [
        "\"\"\"\n",
        "Detailed Inference from the New Graphs\n",
        "1. Optimized Model Accuracy Plot (New)\n",
        "What We See: The training accuracy (blue line) and validation accuracy (orange line) are now tightly coupled. They rise together and end at very similar points (around 78-79%). The large, ever-widening gap from the previous model is gone.\n",
        "\n",
        "What It Means: This is the ideal behavior for a well-regularized model. It shows that for every new thing the model learned from the training data, it was also able to apply that knowledge effectively to the unseen validation data. The model is no longer just \"memorizing\" the training set.\n",
        "\n",
        "2. Optimized Model Loss Plot (New)\n",
        "What We See: In stark contrast to the previous model, the validation loss (orange line) no longer diverges and starts to increase. Instead, it consistently decreases along with the training loss (blue line).\n",
        "\n",
        "What It Means: This is the most critical sign that overfitting has been defeated. The model is continuously getting better at predicting both the training and validation data, indicating that it is learning the true, underlying patterns of the CIFAR-10 dataset rather than fitting to noise.\n",
        "\n",
        "Conclusion: Why the Optimizations Worked\n",
        "The dramatic improvement is a direct result of the specific techniques you added to the model architecture:\n",
        "\n",
        "Data Augmentation: By randomly flipping, rotating, and zooming images, you created a much larger and more varied training set. This made it impossible for the model to simply memorize the original images and forced it to learn more robust, general features.\n",
        "\n",
        "Batch Normalization & Dropout: These regularization techniques acted as a \"brake\" on overfitting. Batch Normalization stabilized the learning process, while Dropout prevented any single part of the network from becoming too specialized, forcing the model to learn redundant patterns.\n",
        "\n",
        "Callbacks (Implicit): The use of EarlyStopping and ReduceLROnPlateau (which you set up) ensures that even if overfitting were to start, the training would stop at the optimal point and the learning rate would adjust, providing a crucial safety net.\n",
        "\"\"\""
      ],
      "metadata": {
        "colab": {
          "base_uri": "https://localhost:8080/",
          "height": 90
        },
        "id": "5VtA0m1Ab23M",
        "outputId": "46d3f070-b748-489d-c37a-85314d1aebba"
      },
      "execution_count": 40,
      "outputs": [
        {
          "output_type": "execute_result",
          "data": {
            "text/plain": [
              "'\\nDetailed Inference from the New Graphs\\n1. Optimized Model Accuracy Plot (New)\\nWhat We See: The training accuracy (blue line) and validation accuracy (orange line) are now tightly coupled. They rise together and end at very similar points (around 78-79%). The large, ever-widening gap from the previous model is gone.\\n\\nWhat It Means: This is the ideal behavior for a well-regularized model. It shows that for every new thing the model learned from the training data, it was also able to apply that knowledge effectively to the unseen validation data. The model is no longer just \"memorizing\" the training set.\\n\\n2. Optimized Model Loss Plot (New)\\nWhat We See: In stark contrast to the previous model, the validation loss (orange line) no longer diverges and starts to increase. Instead, it consistently decreases along with the training loss (blue line).\\n\\nWhat It Means: This is the most critical sign that overfitting has been defeated. The model is continuously getting better at predicting both the training and validation data, indicating that it is learning the true, underlying patterns of the CIFAR-10 dataset rather than fitting to noise.\\n\\nConclusion: Why the Optimizations Worked\\nThe dramatic improvement is a direct result of the specific techniques you added to the model architecture:\\n\\nData Augmentation: By randomly flipping, rotating, and zooming images, you created a much larger and more varied training set. This made it impossible for the model to simply memorize the original images and forced it to learn more robust, general features.\\n\\nBatch Normalization & Dropout: These regularization techniques acted as a \"brake\" on overfitting. Batch Normalization stabilized the learning process, while Dropout prevented any single part of the network from becoming too specialized, forcing the model to learn redundant patterns.\\n\\nCallbacks (Implicit): The use of EarlyStopping and ReduceLROnPlateau (which you set up) ensures that even if overfitting were to start, the training would stop at the optimal point and the learning rate would adjust, providing a crucial safety net.\\n'"
            ],
            "application/vnd.google.colaboratory.intrinsic+json": {
              "type": "string"
            }
          },
          "metadata": {},
          "execution_count": 40
        }
      ]
    },
    {
      "cell_type": "code",
      "source": [
        "%%writefile README.md\n",
        "# CIFAR-10 CNN: A Project on Diagnosing and Fixing Overfitting\n",
        "\n",
        "This project demonstrates an end-to-end machine learning workflow for image classification on the CIFAR-10 dataset. The primary goal is to illustrate the process of identifying model overfitting and implementing advanced techniques to build a more robust, generalizable model.\n",
        "\n",
        "## Project Narrative\n",
        "\n",
        "The project follows a clear experimental process:\n",
        "1.  **Baseline Model**: A simple Convolutional Neural Network (CNN) was built and trained. Analysis of its training history revealed significant overfitting, where the model performed well on training data but poorly on validation data.\n",
        "2.  **Optimized Model**: A second model was built with several regularization techniques to combat overfitting:\n",
        "    - **Batch Normalization**: To stabilize and speed up training.\n",
        "    - **Dropout**: To prevent neurons from co-adapting and force the model to learn more robust features.\n",
        "    - **Advanced Callbacks**: `EarlyStopping` was used to prevent the model from training unnecessarily long, and `ReduceLROnPlateau` was used to adjust the learning rate for finer tuning.\n",
        "3.  **Comparison**: The performance of both models was compared side-by-side, clearly demonstrating that the optimized model achieved better validation accuracy and successfully mitigated overfitting.\n",
        "\n",
        "## Final Results\n",
        "\n",
        "- **Baseline Model Accuracy**: [Enter your base model's test accuracy here]%\n",
        "- **Optimized Model Accuracy**: [Enter your optimized model's test accuracy here]%\n",
        "\n",
        "The comparison plots clearly show a reduced gap between training and validation metrics for the optimized model, confirming its superior generalization capabilities.\n",
        "\n",
        "## Project Structure"
      ],
      "metadata": {
        "colab": {
          "base_uri": "https://localhost:8080/"
        },
        "id": "7LDud9Yvb2mr",
        "outputId": "7f3668da-af46-4d6c-bbd1-114bbcbda584"
      },
      "execution_count": 41,
      "outputs": [
        {
          "output_type": "stream",
          "name": "stdout",
          "text": [
            "Overwriting README.md\n"
          ]
        }
      ]
    },
    {
      "cell_type": "code",
      "source": [
        "!git add README.md\n",
        "!git commit -m \"docs: add professional README for project\"\n",
        "!git push"
      ],
      "metadata": {
        "id": "wnEv7f3Tb2XW",
        "colab": {
          "base_uri": "https://localhost:8080/"
        },
        "outputId": "45998520-29a3-4c13-9bf1-2f5e706e2c9f"
      },
      "execution_count": 42,
      "outputs": [
        {
          "output_type": "stream",
          "name": "stdout",
          "text": [
            "On branch main\n",
            "Your branch is up to date with 'origin/main'.\n",
            "\n",
            "Changes not staged for commit:\n",
            "  (use \"git add <file>...\" to update what will be committed)\n",
            "  (use \"git restore <file>...\" to discard changes in working directory)\n",
            "\t\u001b[31mmodified:   src/cifar10_cnn/models/__init__.py\u001b[m\n",
            "\t\u001b[31mmodified:   src/cifar10_cnn/models/__pycache__/__init__.cpython-312.pyc\u001b[m\n",
            "\t\u001b[31mmodified:   src/cifar10_cnn/models/__pycache__/cnn.cpython-312.pyc\u001b[m\n",
            "\n",
            "no changes added to commit (use \"git add\" and/or \"git commit -a\")\n",
            "Everything up-to-date\n"
          ]
        }
      ]
    },
    {
      "cell_type": "code",
      "source": [],
      "metadata": {
        "id": "dtijITRub2IA"
      },
      "execution_count": 42,
      "outputs": []
    },
    {
      "cell_type": "code",
      "source": [],
      "metadata": {
        "id": "RzXpuX4Pb14T"
      },
      "execution_count": 42,
      "outputs": []
    }
  ]
}